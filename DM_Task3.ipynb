{
 "cells": [
  {
   "cell_type": "code",
   "execution_count": 207,
   "metadata": {},
   "outputs": [],
   "source": [
    "from imblearn.pipeline import make_pipeline\n",
    "from sklearn.preprocessing import StandardScaler\n",
    "from imblearn.over_sampling import SMOTE, RandomOverSampler\n",
    "from sklearn.naive_bayes import GaussianNB\n",
    "from sklearn.model_selection import KFold\n",
    "from yellowbrick.classifier import ConfusionMatrix\n",
    "from sklearn.metrics import classification_report, confusion_matrix\n",
    "from sklearn.model_selection import cross_validate\n",
    "from sklearn.metrics import recall_score\n",
    "import pandas as pd\n",
    "import matplotlib.pyplot as plt\n",
    "import seaborn as sns\n",
    "from scipy import stats\n",
    "import plotly.express as px\n",
    "import numpy as np\n",
    "from sklearn.preprocessing import LabelEncoder\n",
    "from sklearn.model_selection import train_test_split\n"
   ]
  },
  {
   "cell_type": "code",
   "execution_count": 29,
   "metadata": {},
   "outputs": [],
   "source": [
    "# read the hotel reservation file\n",
    "\n",
    "hotel = pd.read_csv('Hotel Reservations.csv')\n",
    "pd.options.display.max_colwidth = 100"
   ]
  },
  {
   "cell_type": "code",
   "execution_count": 30,
   "metadata": {},
   "outputs": [],
   "source": [
    "hotel = hotel.drop('Booking_ID', axis = 1)"
   ]
  },
  {
   "cell_type": "code",
   "execution_count": null,
   "metadata": {},
   "outputs": [],
   "source": [
    "\n",
    "label_encoder_type_of_meal_plan = LabelEncoder()\n",
    "label_encoder_room_type_reserved = LabelEncoder()\n",
    "label_encoder_market_segment_type = LabelEncoder()\n",
    "label_encoder_booking_status = LabelEncoder()\n",
    "\n",
    "hotel['type_of_meal_plan'] = label_encoder_type_of_meal_plan.fit_transform(hotel['type_of_meal_plan'])\n",
    "hotel['room_type_reserved'] = label_encoder_room_type_reserved.fit_transform(hotel['room_type_reserved'])\n",
    "hotel['market_segment_type'] = label_encoder_market_segment_type.fit_transform(hotel['market_segment_type'])\n",
    "hotel['booking_status'] = label_encoder_booking_status.fit_transform(hotel['booking_status'])\n"
   ]
  },
  {
   "cell_type": "code",
   "execution_count": null,
   "metadata": {},
   "outputs": [],
   "source": [
    "le_name_mapping = dict(zip(label_encoder_booking_status.classes_, label_encoder_booking_status.transform(label_encoder_booking_status.classes_)))\n",
    "print(le_name_mapping)"
   ]
  },
  {
   "cell_type": "code",
   "execution_count": 198,
   "metadata": {},
   "outputs": [],
   "source": [
    "X = hotel.drop('booking_status', axis = 1)\n",
    "X = X.values\n",
    "X_standard = StandardScaler().fit_transform(X)\n",
    "y = hotel['booking_status']"
   ]
  },
  {
   "cell_type": "code",
   "execution_count": 208,
   "metadata": {},
   "outputs": [],
   "source": [
    "x_train, x_test, y_train, y_test = train_test_split(X_standard, y, test_size=0.2, random_state=42)"
   ]
  },
  {
   "cell_type": "code",
   "execution_count": 180,
   "metadata": {},
   "outputs": [],
   "source": [
    "scoring = ['accuracy', 'precision', 'recall', 'f1', 'roc_auc']\n",
    "\n",
    "kf = KFold(n_splits=5, shuffle=True, random_state=42)"
   ]
  },
  {
   "attachments": {},
   "cell_type": "markdown",
   "metadata": {},
   "source": [
    "# Naive Bayes"
   ]
  },
  {
   "cell_type": "code",
   "execution_count": 181,
   "metadata": {},
   "outputs": [
    {
     "name": "stdout",
     "output_type": "stream",
     "text": [
      "{'fit_time': array([0.25847983, 0.29394579, 0.28520322, 0.27014875, 0.28089929]), 'score_time': array([0.0306375 , 0.03568363, 0.04119968, 0.02922869, 0.03872514]), 'test_accuracy': array([0.73494142, 0.72984149, 0.72929014, 0.72170917, 0.73618194]), 'test_precision': array([0.80591691, 0.80535381, 0.80104822, 0.8059126 , 0.81132853]), 'test_recall': array([0.79375904, 0.79155619, 0.7901158 , 0.77169231, 0.79785295]), 'test_f1': array([0.79979178, 0.79839539, 0.79554445, 0.78843131, 0.80453431]), 'test_roc_auc': array([0.78576227, 0.77168619, 0.77467742, 0.77310291, 0.78035137])}\n",
      "Mean score for accuracy:  0.7303928325292902\n",
      "Mean score for precision:  0.8059120122043858\n",
      "Mean score for recall:  0.788995256843682\n",
      "Mean score for f1:  0.797339448606072\n",
      "Mean score for roc_auc:  0.7771160301919415\n"
     ]
    }
   ],
   "source": [
    "\n",
    "classifier = make_pipeline(SMOTE(random_state=100), GaussianNB(var_smoothing=1e-03))\n",
    "classifier.fit(X, y)\n",
    "\n",
    "scores = cross_validate(classifier, X, y, scoring=scoring, cv=kf)\n",
    "print(scores)\n",
    "print(\"Mean score for accuracy: \", scores['test_accuracy'].mean())\n",
    "print(\"Mean score for precision: \", scores['test_precision'].mean())\n",
    "print(\"Mean score for recall: \", scores['test_recall'].mean())\n",
    "print(\"Mean score for f1: \", scores['test_f1'].mean())\n",
    "print(\"Mean score for roc_auc: \", scores['test_roc_auc'].mean())\n"
   ]
  },
  {
   "cell_type": "code",
   "execution_count": 184,
   "metadata": {},
   "outputs": [
    {
     "data": {
      "text/plain": [
       "0.7303928325292901"
      ]
     },
     "execution_count": 184,
     "metadata": {},
     "output_type": "execute_result"
    },
    {
     "data": {
      "image/png": "[encoded data removed]",
      "text/plain": [
       "<Figure size 800x550 with 1 Axes>"
      ]
     },
     "metadata": {},
     "output_type": "display_data"
    }
   ],
   "source": [
    "# Confusion Matrix\n",
    "cm = ConfusionMatrix(classifier)\n",
    "cm.fit(X, y)\n",
    "cm.score(X, y)"
   ]
  },
  {
   "attachments": {},
   "cell_type": "markdown",
   "metadata": {},
   "source": [
    "# KNN"
   ]
  },
  {
   "cell_type": "code",
   "execution_count": 185,
   "metadata": {},
   "outputs": [],
   "source": [
    "from sklearn.model_selection import GridSearchCV\n",
    "from sklearn.neighbors import KNeighborsClassifier\n",
    "from sklearn.metrics import accuracy_score\n",
    "scores = []\n",
    "\n",
    "#Determine the best number of neighbours\n",
    "knn = KNeighborsClassifier()\n",
    "classifier = make_pipeline(StandardScaler(), SMOTE(random_state=100), knn)\n",
    "\n",
    "no_neighbours_list = list(range(1,10))\n",
    "# k_values = dict(n_neighbors = no_neighbours_list)\n",
    "params = {'kneighborsclassifier__n_neighbors': no_neighbours_list}\n",
    "# perform a new split inside method\n",
    "grid = GridSearchCV(classifier, param_grid=params, cv = kf, scoring =  scoring, n_jobs = -1, refit = False)"
   ]
  },
  {
   "cell_type": "code",
   "execution_count": 186,
   "metadata": {},
   "outputs": [
    {
     "data": {
      "text/html": [
       "<style>#sk-container-id-7 {color: black;background-color: white;}#sk-container-id-7 pre{padding: 0;}#sk-container-id-7 div.sk-toggleable {background-color: white;}#sk-container-id-7 label.sk-toggleable__label {cursor: pointer;display: block;width: 100%;margin-bottom: 0;padding: 0.3em;box-sizing: border-box;text-align: center;}#sk-container-id-7 label.sk-toggleable__label-arrow:before {content: \"▸\";float: left;margin-right: 0.25em;color: #696969;}#sk-container-id-7 label.sk-toggleable__label-arrow:hover:before {color: black;}#sk-container-id-7 div.sk-estimator:hover label.sk-toggleable__label-arrow:before {color: black;}#sk-container-id-7 div.sk-toggleable__content {max-height: 0;max-width: 0;overflow: hidden;text-align: left;background-color: #f0f8ff;}#sk-container-id-7 div.sk-toggleable__content pre {margin: 0.2em;color: black;border-radius: 0.25em;background-color: #f0f8ff;}#sk-container-id-7 input.sk-toggleable__control:checked~div.sk-toggleable__content {max-height: 200px;max-width: 100%;overflow: auto;}#sk-container-id-7 input.sk-toggleable__control:checked~label.sk-toggleable__label-arrow:before {content: \"▾\";}#sk-container-id-7 div.sk-estimator input.sk-toggleable__control:checked~label.sk-toggleable__label {background-color: #d4ebff;}#sk-container-id-7 div.sk-label input.sk-toggleable__control:checked~label.sk-toggleable__label {background-color: #d4ebff;}#sk-container-id-7 input.sk-hidden--visually {border: 0;clip: rect(1px 1px 1px 1px);clip: rect(1px, 1px, 1px, 1px);height: 1px;margin: -1px;overflow: hidden;padding: 0;position: absolute;width: 1px;}#sk-container-id-7 div.sk-estimator {font-family: monospace;background-color: #f0f8ff;border: 1px dotted black;border-radius: 0.25em;box-sizing: border-box;margin-bottom: 0.5em;}#sk-container-id-7 div.sk-estimator:hover {background-color: #d4ebff;}#sk-container-id-7 div.sk-parallel-item::after {content: \"\";width: 100%;border-bottom: 1px solid gray;flex-grow: 1;}#sk-container-id-7 div.sk-label:hover label.sk-toggleable__label {background-color: #d4ebff;}#sk-container-id-7 div.sk-serial::before {content: \"\";position: absolute;border-left: 1px solid gray;box-sizing: border-box;top: 0;bottom: 0;left: 50%;z-index: 0;}#sk-container-id-7 div.sk-serial {display: flex;flex-direction: column;align-items: center;background-color: white;padding-right: 0.2em;padding-left: 0.2em;position: relative;}#sk-container-id-7 div.sk-item {position: relative;z-index: 1;}#sk-container-id-7 div.sk-parallel {display: flex;align-items: stretch;justify-content: center;background-color: white;position: relative;}#sk-container-id-7 div.sk-item::before, #sk-container-id-7 div.sk-parallel-item::before {content: \"\";position: absolute;border-left: 1px solid gray;box-sizing: border-box;top: 0;bottom: 0;left: 50%;z-index: -1;}#sk-container-id-7 div.sk-parallel-item {display: flex;flex-direction: column;z-index: 1;position: relative;background-color: white;}#sk-container-id-7 div.sk-parallel-item:first-child::after {align-self: flex-end;width: 50%;}#sk-container-id-7 div.sk-parallel-item:last-child::after {align-self: flex-start;width: 50%;}#sk-container-id-7 div.sk-parallel-item:only-child::after {width: 0;}#sk-container-id-7 div.sk-dashed-wrapped {border: 1px dashed gray;margin: 0 0.4em 0.5em 0.4em;box-sizing: border-box;padding-bottom: 0.4em;background-color: white;}#sk-container-id-7 div.sk-label label {font-family: monospace;font-weight: bold;display: inline-block;line-height: 1.2em;}#sk-container-id-7 div.sk-label-container {text-align: center;}#sk-container-id-7 div.sk-container {/* jupyter's `normalize.less` sets `[hidden] { display: none; }` but bootstrap.min.css set `[hidden] { display: none !important; }` so we also need the `!important` here to be able to override the default hidden behavior on the sphinx rendered scikit-learn.org. See: https://github.com/scikit-learn/scikit-learn/issues/21755 */display: inline-block !important;position: relative;}#sk-container-id-7 div.sk-text-repr-fallback {display: none;}</style><div id=\"sk-container-id-7\" class=\"sk-top-container\"><div class=\"sk-text-repr-fallback\"><pre>GridSearchCV(cv=KFold(n_splits=5, random_state=42, shuffle=True),\n",
       "             estimator=Pipeline(steps=[(&#x27;standardscaler&#x27;, StandardScaler()),\n",
       "                                       (&#x27;smote&#x27;, SMOTE(random_state=100)),\n",
       "                                       (&#x27;kneighborsclassifier&#x27;,\n",
       "                                        KNeighborsClassifier())]),\n",
       "             n_jobs=-1,\n",
       "             param_grid={&#x27;kneighborsclassifier__n_neighbors&#x27;: [1, 2, 3, 4, 5, 6,\n",
       "                                                               7, 8, 9]},\n",
       "             refit=False,\n",
       "             scoring=[&#x27;accuracy&#x27;, &#x27;precision&#x27;, &#x27;recall&#x27;, &#x27;f1&#x27;, &#x27;roc_auc&#x27;])</pre><b>In a Jupyter environment, please rerun this cell to show the HTML representation or trust the notebook. <br />On GitHub, the HTML representation is unable to render, please try loading this page with nbviewer.org.</b></div><div class=\"sk-container\" hidden><div class=\"sk-item sk-dashed-wrapped\"><div class=\"sk-label-container\"><div class=\"sk-label sk-toggleable\"><input class=\"sk-toggleable__control sk-hidden--visually\" id=\"sk-estimator-id-28\" type=\"checkbox\" ><label for=\"sk-estimator-id-28\" class=\"sk-toggleable__label sk-toggleable__label-arrow\">GridSearchCV</label><div class=\"sk-toggleable__content\"><pre>GridSearchCV(cv=KFold(n_splits=5, random_state=42, shuffle=True),\n",
       "             estimator=Pipeline(steps=[(&#x27;standardscaler&#x27;, StandardScaler()),\n",
       "                                       (&#x27;smote&#x27;, SMOTE(random_state=100)),\n",
       "                                       (&#x27;kneighborsclassifier&#x27;,\n",
       "                                        KNeighborsClassifier())]),\n",
       "             n_jobs=-1,\n",
       "             param_grid={&#x27;kneighborsclassifier__n_neighbors&#x27;: [1, 2, 3, 4, 5, 6,\n",
       "                                                               7, 8, 9]},\n",
       "             refit=False,\n",
       "             scoring=[&#x27;accuracy&#x27;, &#x27;precision&#x27;, &#x27;recall&#x27;, &#x27;f1&#x27;, &#x27;roc_auc&#x27;])</pre></div></div></div><div class=\"sk-parallel\"><div class=\"sk-parallel-item\"><div class=\"sk-item\"><div class=\"sk-label-container\"><div class=\"sk-label sk-toggleable\"><input class=\"sk-toggleable__control sk-hidden--visually\" id=\"sk-estimator-id-29\" type=\"checkbox\" ><label for=\"sk-estimator-id-29\" class=\"sk-toggleable__label sk-toggleable__label-arrow\">estimator: Pipeline</label><div class=\"sk-toggleable__content\"><pre>Pipeline(steps=[(&#x27;standardscaler&#x27;, StandardScaler()),\n",
       "                (&#x27;smote&#x27;, SMOTE(random_state=100)),\n",
       "                (&#x27;kneighborsclassifier&#x27;, KNeighborsClassifier())])</pre></div></div></div><div class=\"sk-serial\"><div class=\"sk-item\"><div class=\"sk-serial\"><div class=\"sk-item\"><div class=\"sk-estimator sk-toggleable\"><input class=\"sk-toggleable__control sk-hidden--visually\" id=\"sk-estimator-id-30\" type=\"checkbox\" ><label for=\"sk-estimator-id-30\" class=\"sk-toggleable__label sk-toggleable__label-arrow\">StandardScaler</label><div class=\"sk-toggleable__content\"><pre>StandardScaler()</pre></div></div></div><div class=\"sk-item\"><div class=\"sk-estimator sk-toggleable\"><input class=\"sk-toggleable__control sk-hidden--visually\" id=\"sk-estimator-id-31\" type=\"checkbox\" ><label for=\"sk-estimator-id-31\" class=\"sk-toggleable__label sk-toggleable__label-arrow\">SMOTE</label><div class=\"sk-toggleable__content\"><pre>SMOTE(random_state=100)</pre></div></div></div><div class=\"sk-item\"><div class=\"sk-estimator sk-toggleable\"><input class=\"sk-toggleable__control sk-hidden--visually\" id=\"sk-estimator-id-32\" type=\"checkbox\" ><label for=\"sk-estimator-id-32\" class=\"sk-toggleable__label sk-toggleable__label-arrow\">KNeighborsClassifier</label><div class=\"sk-toggleable__content\"><pre>KNeighborsClassifier()</pre></div></div></div></div></div></div></div></div></div></div></div></div>"
      ],
      "text/plain": [
       "GridSearchCV(cv=KFold(n_splits=5, random_state=42, shuffle=True),\n",
       "             estimator=Pipeline(steps=[('standardscaler', StandardScaler()),\n",
       "                                       ('smote', SMOTE(random_state=100)),\n",
       "                                       ('kneighborsclassifier',\n",
       "                                        KNeighborsClassifier())]),\n",
       "             n_jobs=-1,\n",
       "             param_grid={'kneighborsclassifier__n_neighbors': [1, 2, 3, 4, 5, 6,\n",
       "                                                               7, 8, 9]},\n",
       "             refit=False,\n",
       "             scoring=['accuracy', 'precision', 'recall', 'f1', 'roc_auc'])"
      ]
     },
     "execution_count": 186,
     "metadata": {},
     "output_type": "execute_result"
    }
   ],
   "source": [
    "grid.fit(X, y)"
   ]
  },
  {
   "cell_type": "code",
   "execution_count": 187,
   "metadata": {},
   "outputs": [
    {
     "name": "stdout",
     "output_type": "stream",
     "text": [
      "Iteration:  1\n",
      "Iteration:  2\n",
      "Iteration:  3\n",
      "Iteration:  4\n",
      "Iteration:  5\n",
      "Iteration:  6\n",
      "Iteration:  7\n",
      "Iteration:  8\n",
      "Iteration:  9\n"
     ]
    }
   ],
   "source": [
    "accuracies = []\n",
    "precisions = []\n",
    "recalls = []\n",
    "f1s = []\n",
    "roc_aucs = []\n",
    "\n",
    "for i in range(1, 10):\n",
    "    knn = KNeighborsClassifier(n_neighbors=i)\n",
    "    classifier = make_pipeline(StandardScaler(), SMOTE(random_state=100), knn)\n",
    "    score = cross_validate(classifier, X, y, scoring=scoring, cv=kf)\n",
    "    # take scores\n",
    "    test_accuracy = score['test_accuracy'].mean() \n",
    "    test_precision = score['test_precision'].mean()\n",
    "    test_recall = score['test_recall'].mean()\n",
    "    test_f1 = score['test_f1'].mean()\n",
    "    test_roc_auc = score['test_roc_auc'].mean()\n",
    "    \n",
    "    accuracies.append(test_accuracy)\n",
    "    precisions.append(test_precision)\n",
    "    recalls.append(test_recall)\n",
    "    f1s.append(test_f1)\n",
    "    roc_aucs.append(test_roc_auc)\n",
    "\n",
    "    print(\"Iteration: \", i)\n"
   ]
  },
  {
   "cell_type": "code",
   "execution_count": 188,
   "metadata": {},
   "outputs": [
    {
     "data": {
      "text/html": [
       "<div>\n",
       "<style scoped>\n",
       "    .dataframe tbody tr th:only-of-type {\n",
       "        vertical-align: middle;\n",
       "    }\n",
       "\n",
       "    .dataframe tbody tr th {\n",
       "        vertical-align: top;\n",
       "    }\n",
       "\n",
       "    .dataframe thead th {\n",
       "        text-align: right;\n",
       "    }\n",
       "</style>\n",
       "<table border=\"1\" class=\"dataframe\">\n",
       "  <thead>\n",
       "    <tr style=\"text-align: right;\">\n",
       "      <th></th>\n",
       "      <th>neighbors</th>\n",
       "      <th>accuracy</th>\n",
       "      <th>precision</th>\n",
       "      <th>recall</th>\n",
       "      <th>f1</th>\n",
       "      <th>roc_auc</th>\n",
       "    </tr>\n",
       "  </thead>\n",
       "  <tbody>\n",
       "    <tr>\n",
       "      <th>0</th>\n",
       "      <td>1</td>\n",
       "      <td>0.847636</td>\n",
       "      <td>0.892689</td>\n",
       "      <td>0.879110</td>\n",
       "      <td>0.885832</td>\n",
       "      <td>0.831078</td>\n",
       "    </tr>\n",
       "    <tr>\n",
       "      <th>1</th>\n",
       "      <td>2</td>\n",
       "      <td>0.814087</td>\n",
       "      <td>0.922032</td>\n",
       "      <td>0.790329</td>\n",
       "      <td>0.851110</td>\n",
       "      <td>0.865962</td>\n",
       "    </tr>\n",
       "    <tr>\n",
       "      <th>2</th>\n",
       "      <td>3</td>\n",
       "      <td>0.834045</td>\n",
       "      <td>0.903133</td>\n",
       "      <td>0.843678</td>\n",
       "      <td>0.872387</td>\n",
       "      <td>0.884430</td>\n",
       "    </tr>\n",
       "    <tr>\n",
       "      <th>3</th>\n",
       "      <td>4</td>\n",
       "      <td>0.812957</td>\n",
       "      <td>0.925145</td>\n",
       "      <td>0.785368</td>\n",
       "      <td>0.849540</td>\n",
       "      <td>0.894286</td>\n",
       "    </tr>\n",
       "    <tr>\n",
       "      <th>4</th>\n",
       "      <td>5</td>\n",
       "      <td>0.832088</td>\n",
       "      <td>0.910127</td>\n",
       "      <td>0.832483</td>\n",
       "      <td>0.869572</td>\n",
       "      <td>0.899692</td>\n",
       "    </tr>\n",
       "    <tr>\n",
       "      <th>5</th>\n",
       "      <td>6</td>\n",
       "      <td>0.815245</td>\n",
       "      <td>0.924263</td>\n",
       "      <td>0.789960</td>\n",
       "      <td>0.851846</td>\n",
       "      <td>0.902820</td>\n",
       "    </tr>\n",
       "    <tr>\n",
       "      <th>6</th>\n",
       "      <td>7</td>\n",
       "      <td>0.830710</td>\n",
       "      <td>0.912081</td>\n",
       "      <td>0.828060</td>\n",
       "      <td>0.868035</td>\n",
       "      <td>0.905428</td>\n",
       "    </tr>\n",
       "    <tr>\n",
       "      <th>7</th>\n",
       "      <td>8</td>\n",
       "      <td>0.813728</td>\n",
       "      <td>0.921827</td>\n",
       "      <td>0.789958</td>\n",
       "      <td>0.850805</td>\n",
       "      <td>0.907307</td>\n",
       "    </tr>\n",
       "    <tr>\n",
       "      <th>8</th>\n",
       "      <td>9</td>\n",
       "      <td>0.826823</td>\n",
       "      <td>0.912448</td>\n",
       "      <td>0.821240</td>\n",
       "      <td>0.864439</td>\n",
       "      <td>0.908459</td>\n",
       "    </tr>\n",
       "  </tbody>\n",
       "</table>\n",
       "</div>"
      ],
      "text/plain": [
       "   neighbors  accuracy  precision    recall        f1   roc_auc\n",
       "0          1  0.847636   0.892689  0.879110  0.885832  0.831078\n",
       "1          2  0.814087   0.922032  0.790329  0.851110  0.865962\n",
       "2          3  0.834045   0.903133  0.843678  0.872387  0.884430\n",
       "3          4  0.812957   0.925145  0.785368  0.849540  0.894286\n",
       "4          5  0.832088   0.910127  0.832483  0.869572  0.899692\n",
       "5          6  0.815245   0.924263  0.789960  0.851846  0.902820\n",
       "6          7  0.830710   0.912081  0.828060  0.868035  0.905428\n",
       "7          8  0.813728   0.921827  0.789958  0.850805  0.907307\n",
       "8          9  0.826823   0.912448  0.821240  0.864439  0.908459"
      ]
     },
     "execution_count": 188,
     "metadata": {},
     "output_type": "execute_result"
    }
   ],
   "source": [
    "# create a dataframe of the scores\n",
    "# scores_df = pd.DataFrame(scores, columns=['neighbors', 'score'])\n",
    "# scores_df\n",
    "\n",
    "scores = pd.DataFrame({'neighbors': no_neighbours_list, 'accuracy': accuracies, 'precision': precisions, 'recall': recalls, 'f1': f1s, 'roc_auc': roc_aucs})\n",
    "scores"
   ]
  },
  {
   "cell_type": "code",
   "execution_count": 210,
   "metadata": {},
   "outputs": [
    {
     "data": {
      "text/plain": [
       "0.8537560303239146"
      ]
     },
     "execution_count": 210,
     "metadata": {},
     "output_type": "execute_result"
    },
    {
     "data": {
      "image/png": "[encoded data removed]",
      "text/plain": [
       "<Figure size 800x550 with 1 Axes>"
      ]
     },
     "metadata": {},
     "output_type": "display_data"
    }
   ],
   "source": [
    "knn_classifier = KNeighborsClassifier(n_neighbors=1)\n",
    "knn_classifier.fit(x_train, y_train)\n",
    "y_pred = knn_classifier.predict(x_test)\n",
    "\n",
    "cm = ConfusionMatrix(knn_classifier)\n",
    "cm.fit(x_train, y_train)\n",
    "cm.score(x_test, y_test)"
   ]
  },
  {
   "cell_type": "markdown",
   "metadata": {},
   "source": [
    "# Neural networks"
   ]
  },
  {
   "cell_type": "code",
   "execution_count": null,
   "metadata": {},
   "outputs": [],
   "source": [
    "from keras.utils import np_utils\n",
    "y_convert = np_utils.to_categorical(y)\n",
    "X_standard = StandardScaler().fit_transform(X)\n",
    "\n",
    "# train using Neural Network\n",
    "from keras.models import Sequential\n",
    "from keras.layers import Dense\n",
    "from keras.layers import Dropout\n",
    "from keras.optimizers import Adam, SGD, RMSprop\n",
    "from keras.metrics import AUC, Precision, Recall, CategoricalAccuracy\n",
    "\n",
    "metrics = [Precision(), Recall(), CategoricalAccuracy(), AUC()]\n",
    "\n",
    "def test_model(optimizer, learning_rate):\n",
    "    accuracies = []\n",
    "    precisions = []\n",
    "    recalls = []\n",
    "    roc_aucs = []\n",
    "\n",
    "    # implement k-fold cross validation\n",
    "    fold_no = 1\n",
    "    for train, test in kf.split(X_standard, y_convert):\n",
    "        train_data_x, train_data_y = SMOTE(random_state=100).fit_resample(X_standard[train], y_convert[train])\n",
    "        train_data_y = np_utils.to_categorical(train_data_y)\n",
    "\n",
    "        model = Sequential()\n",
    "        model.add(Dense(32, input_dim = 17, kernel_initializer = 'uniform', activation = 'relu'))\n",
    "        model.add(Dropout(0.2)) \n",
    "        model.add(Dense(64, kernel_initializer = 'uniform', activation = 'relu'))\n",
    "        model.add(Dropout(0.2)) \n",
    "        model.add(Dense(128, kernel_initializer = 'uniform', activation = 'relu'))\n",
    "        model.add(Dropout(0.2)) \n",
    "        model.add(Dense(256, kernel_initializer = 'uniform', activation = 'relu'))\n",
    "        model.add(Dropout(0.2)) \n",
    "        model.add(Dense(2, kernel_initializer = 'uniform', activation = 'softmax'))\n",
    "        \n",
    "        to_add_optimizer = optimizer(learning_rate=learning_rate)\n",
    "\n",
    "        model.compile(loss='categorical_crossentropy', optimizer = to_add_optimizer, metrics=metrics)\n",
    "        history = model.fit(train_data_x, train_data_y, epochs = 30, batch_size = 600, verbose = 0, use_multiprocessing=True) \n",
    "        scores = model.evaluate(X_standard[test], y_convert[test], verbose=0)\n",
    "\n",
    "        print('Fold: ', fold_no)\n",
    "        accuracies.append(scores[3])\n",
    "        precisions.append(scores[1])\n",
    "        recalls.append(scores[2])\n",
    "        roc_aucs.append(scores[4])\n",
    "        fold_no = fold_no + 1\n",
    "    \n",
    "    return np.mean(accuracies), np.mean(precisions), np.mean(recalls), np.mean(roc_aucs)\n",
    "    \n"
   ]
  },
  {
   "cell_type": "code",
   "execution_count": null,
   "metadata": {},
   "outputs": [],
   "source": [
    "# try different learning_rate \n",
    "learning_rate = [0.001, 0.01, 0.02, 0.03, 0.1]\n",
    "optimizers = [Adam, SGD, RMSprop]\n",
    "\n",
    "final_results = []\n",
    "\n",
    "for optimizer in optimizers:\n",
    "    for lr in learning_rate:\n",
    "        print(\"Optimizer: \", optimizer.__name__)\n",
    "        print(\"Learning rate: \", lr)\n",
    "        final_results.append((optimizer.__name__, lr, test_model(optimizer, lr)))"
   ]
  },
  {
   "cell_type": "code",
   "execution_count": null,
   "metadata": {},
   "outputs": [],
   "source": [
    "# vizualize the results\n",
    "def display_statistics(history):\n",
    "    acc = history.history['accuracy']\n",
    "    val_acc = history.history['val_accuracy']\n",
    "    loss = history.history['loss']\n",
    "    val_loss = history.history['val_loss']\n",
    "    epochs = range(1, len(acc) + 1)\n",
    "\n",
    "    plt.plot(epochs, acc, 'bo', label='Training acc')\n",
    "    plt.plot(epochs, val_acc, 'b', label='Validation acc')\n",
    "    plt.title('Training and validation accuracy')\n",
    "    plt.legend()\n",
    "    plt.savefig('../statistics/overflow-acc.png')\n",
    "    plt.figure()\n",
    "    plt.plot(epochs, loss, 'bo', label='Training loss')\n",
    "    plt.plot(epochs, val_loss, 'b', label='Validation loss')\n",
    "    plt.title('Training and validation loss')\n",
    "    plt.legend()\n",
    "    plt.savefig('../statistics/overflow-val.png')\n",
    "    plt.show()"
   ]
  },
  {
   "attachments": {},
   "cell_type": "markdown",
   "metadata": {},
   "source": [
    "# Decision Trees"
   ]
  },
  {
   "cell_type": "code",
   "execution_count": null,
   "metadata": {},
   "outputs": [],
   "source": [
    "# implement decision trees\n",
    "from sklearn.tree import DecisionTreeClassifier \n",
    "\n",
    "min_split = np.array([2, 3, 4, 5, 6, 7])\n",
    "max_nvl = np.array([3, 4, 5, 6, 7, 9, 11])\n",
    "alg = ['entropy', 'gini']\n",
    "values_grid = {'decisiontreeclassifier__min_samples_split': min_split, 'decisiontreeclassifier__max_depth': max_nvl, 'decisiontreeclassifier__criterion': alg}\n",
    "\n",
    "tree = DecisionTreeClassifier()\n",
    "classifier = make_pipeline(StandardScaler(), SMOTE(random_state=100), tree)\n",
    "\n",
    "grid = GridSearchCV(classifier, param_grid=values_grid, cv = kf, scoring =  scoring, n_jobs = -1, refit = False)"
   ]
  },
  {
   "cell_type": "code",
   "execution_count": null,
   "metadata": {},
   "outputs": [],
   "source": [
    "grid.fit(X, y)"
   ]
  },
  {
   "cell_type": "code",
   "execution_count": 173,
   "metadata": {},
   "outputs": [
    {
     "data": {
      "text/html": [
       "<div>\n",
       "<style scoped>\n",
       "    .dataframe tbody tr th:only-of-type {\n",
       "        vertical-align: middle;\n",
       "    }\n",
       "\n",
       "    .dataframe tbody tr th {\n",
       "        vertical-align: top;\n",
       "    }\n",
       "\n",
       "    .dataframe thead th {\n",
       "        text-align: right;\n",
       "    }\n",
       "</style>\n",
       "<table border=\"1\" class=\"dataframe\">\n",
       "  <thead>\n",
       "    <tr style=\"text-align: right;\">\n",
       "      <th></th>\n",
       "      <th>criterion</th>\n",
       "      <th>max_depth</th>\n",
       "      <th>min_samples_split</th>\n",
       "      <th>accuracy</th>\n",
       "      <th>precision</th>\n",
       "      <th>recall</th>\n",
       "      <th>f1</th>\n",
       "      <th>roc_auc</th>\n",
       "    </tr>\n",
       "  </thead>\n",
       "  <tbody>\n",
       "    <tr>\n",
       "      <th>36</th>\n",
       "      <td>entropy</td>\n",
       "      <td>11</td>\n",
       "      <td>2</td>\n",
       "      <td>0.862853</td>\n",
       "      <td>0.908806</td>\n",
       "      <td>0.885243</td>\n",
       "      <td>0.896604</td>\n",
       "      <td>0.929395</td>\n",
       "    </tr>\n",
       "    <tr>\n",
       "      <th>39</th>\n",
       "      <td>entropy</td>\n",
       "      <td>11</td>\n",
       "      <td>5</td>\n",
       "      <td>0.862826</td>\n",
       "      <td>0.908737</td>\n",
       "      <td>0.885284</td>\n",
       "      <td>0.896588</td>\n",
       "      <td>0.929613</td>\n",
       "    </tr>\n",
       "    <tr>\n",
       "      <th>38</th>\n",
       "      <td>entropy</td>\n",
       "      <td>11</td>\n",
       "      <td>4</td>\n",
       "      <td>0.862826</td>\n",
       "      <td>0.908664</td>\n",
       "      <td>0.885364</td>\n",
       "      <td>0.896598</td>\n",
       "      <td>0.929581</td>\n",
       "    </tr>\n",
       "    <tr>\n",
       "      <th>40</th>\n",
       "      <td>entropy</td>\n",
       "      <td>11</td>\n",
       "      <td>6</td>\n",
       "      <td>0.862660</td>\n",
       "      <td>0.908606</td>\n",
       "      <td>0.885163</td>\n",
       "      <td>0.896471</td>\n",
       "      <td>0.929878</td>\n",
       "    </tr>\n",
       "    <tr>\n",
       "      <th>37</th>\n",
       "      <td>entropy</td>\n",
       "      <td>11</td>\n",
       "      <td>3</td>\n",
       "      <td>0.862467</td>\n",
       "      <td>0.908365</td>\n",
       "      <td>0.885125</td>\n",
       "      <td>0.896334</td>\n",
       "      <td>0.928899</td>\n",
       "    </tr>\n",
       "    <tr>\n",
       "      <th>...</th>\n",
       "      <td>...</td>\n",
       "      <td>...</td>\n",
       "      <td>...</td>\n",
       "      <td>...</td>\n",
       "      <td>...</td>\n",
       "      <td>...</td>\n",
       "      <td>...</td>\n",
       "      <td>...</td>\n",
       "    </tr>\n",
       "    <tr>\n",
       "      <th>5</th>\n",
       "      <td>entropy</td>\n",
       "      <td>3</td>\n",
       "      <td>7</td>\n",
       "      <td>0.786492</td>\n",
       "      <td>0.862204</td>\n",
       "      <td>0.812250</td>\n",
       "      <td>0.836467</td>\n",
       "      <td>0.820231</td>\n",
       "    </tr>\n",
       "    <tr>\n",
       "      <th>4</th>\n",
       "      <td>entropy</td>\n",
       "      <td>3</td>\n",
       "      <td>6</td>\n",
       "      <td>0.786492</td>\n",
       "      <td>0.862204</td>\n",
       "      <td>0.812250</td>\n",
       "      <td>0.836467</td>\n",
       "      <td>0.820231</td>\n",
       "    </tr>\n",
       "    <tr>\n",
       "      <th>3</th>\n",
       "      <td>entropy</td>\n",
       "      <td>3</td>\n",
       "      <td>5</td>\n",
       "      <td>0.786492</td>\n",
       "      <td>0.862204</td>\n",
       "      <td>0.812250</td>\n",
       "      <td>0.836467</td>\n",
       "      <td>0.820231</td>\n",
       "    </tr>\n",
       "    <tr>\n",
       "      <th>2</th>\n",
       "      <td>entropy</td>\n",
       "      <td>3</td>\n",
       "      <td>4</td>\n",
       "      <td>0.786492</td>\n",
       "      <td>0.862204</td>\n",
       "      <td>0.812250</td>\n",
       "      <td>0.836467</td>\n",
       "      <td>0.820231</td>\n",
       "    </tr>\n",
       "    <tr>\n",
       "      <th>42</th>\n",
       "      <td>gini</td>\n",
       "      <td>3</td>\n",
       "      <td>2</td>\n",
       "      <td>0.786492</td>\n",
       "      <td>0.862204</td>\n",
       "      <td>0.812250</td>\n",
       "      <td>0.836467</td>\n",
       "      <td>0.821904</td>\n",
       "    </tr>\n",
       "  </tbody>\n",
       "</table>\n",
       "<p>84 rows × 8 columns</p>\n",
       "</div>"
      ],
      "text/plain": [
       "   criterion  max_depth  min_samples_split  accuracy  precision    recall  \\\n",
       "36   entropy         11                  2  0.862853   0.908806  0.885243   \n",
       "39   entropy         11                  5  0.862826   0.908737  0.885284   \n",
       "38   entropy         11                  4  0.862826   0.908664  0.885364   \n",
       "40   entropy         11                  6  0.862660   0.908606  0.885163   \n",
       "37   entropy         11                  3  0.862467   0.908365  0.885125   \n",
       "..       ...        ...                ...       ...        ...       ...   \n",
       "5    entropy          3                  7  0.786492   0.862204  0.812250   \n",
       "4    entropy          3                  6  0.786492   0.862204  0.812250   \n",
       "3    entropy          3                  5  0.786492   0.862204  0.812250   \n",
       "2    entropy          3                  4  0.786492   0.862204  0.812250   \n",
       "42      gini          3                  2  0.786492   0.862204  0.812250   \n",
       "\n",
       "          f1   roc_auc  \n",
       "36  0.896604  0.929395  \n",
       "39  0.896588  0.929613  \n",
       "38  0.896598  0.929581  \n",
       "40  0.896471  0.929878  \n",
       "37  0.896334  0.928899  \n",
       "..       ...       ...  \n",
       "5   0.836467  0.820231  \n",
       "4   0.836467  0.820231  \n",
       "3   0.836467  0.820231  \n",
       "2   0.836467  0.820231  \n",
       "42  0.836467  0.821904  \n",
       "\n",
       "[84 rows x 8 columns]"
      ]
     },
     "execution_count": 173,
     "metadata": {},
     "output_type": "execute_result"
    }
   ],
   "source": [
    "columns = [\"mean_test_accuracy\", \"mean_test_precision\", \"mean_test_recall\", \"mean_test_f1\", \"mean_test_roc_auc\"]\n",
    "params = pd.DataFrame(grid.cv_results_['params'])\n",
    "scores = pd.DataFrame(grid.cv_results_)[columns]\n",
    "scores = pd.concat([params, scores], axis=1)\n",
    "\n",
    "#rename columns\n",
    "scores.columns = ['criterion', 'max_depth', 'min_samples_split', 'accuracy', 'precision', 'recall', 'f1', 'roc_auc']\n",
    "scores.sort_values(by=['accuracy'], ascending=False)\n"
   ]
  },
  {
   "cell_type": "code",
   "execution_count": 211,
   "metadata": {},
   "outputs": [
    {
     "data": {
      "text/plain": [
       "0.8736044107512061"
      ]
     },
     "execution_count": 211,
     "metadata": {},
     "output_type": "execute_result"
    },
    {
     "data": {
      "image/png": "[encoded data removed]",
      "text/plain": [
       "<Figure size 800x550 with 1 Axes>"
      ]
     },
     "metadata": {},
     "output_type": "display_data"
    }
   ],
   "source": [
    "tree_classifier = DecisionTreeClassifier(criterion='entropy', max_depth=11, min_samples_split=2)\n",
    "tree_classifier.fit(x_train, y_train)\n",
    "y_pred = tree_classifier.predict(x_test)\n",
    "\n",
    "cm = ConfusionMatrix(tree_classifier)\n",
    "cm.fit(x_train, y_train)\n",
    "cm.score(x_test, y_test)"
   ]
  },
  {
   "attachments": {},
   "cell_type": "markdown",
   "metadata": {},
   "source": [
    "# Random forest"
   ]
  },
  {
   "cell_type": "code",
   "execution_count": 214,
   "metadata": {},
   "outputs": [],
   "source": [
    "# implement random forest\n",
    "from sklearn.ensemble import RandomForestClassifier\n",
    "\n",
    "n_estimators = np.array([100])\n",
    "alg = ['entropy', 'gini']\n",
    "min_split = np.array([2, 3, 4, 5, 6, 7])\n",
    "max_nvl = np.array([3, 4, 5, 6, 7, 9, 11])\n",
    "values_grid = {'randomforestclassifier__n_estimators': n_estimators, 'randomforestclassifier__min_samples_split': min_split, 'randomforestclassifier__max_depth': max_nvl, 'randomforestclassifier__criterion': alg}\n",
    "classifier = make_pipeline(StandardScaler(), SMOTE(random_state=100), RandomForestClassifier()) \n",
    "\n",
    "gridRandomForest = GridSearchCV(classifier , param_grid = values_grid, cv = kf, scoring = scoring, n_jobs = -1, refit = False)"
   ]
  },
  {
   "cell_type": "code",
   "execution_count": 215,
   "metadata": {},
   "outputs": [
    {
     "data": {
      "text/html": [
       "<style>#sk-container-id-8 {color: black;background-color: white;}#sk-container-id-8 pre{padding: 0;}#sk-container-id-8 div.sk-toggleable {background-color: white;}#sk-container-id-8 label.sk-toggleable__label {cursor: pointer;display: block;width: 100%;margin-bottom: 0;padding: 0.3em;box-sizing: border-box;text-align: center;}#sk-container-id-8 label.sk-toggleable__label-arrow:before {content: \"▸\";float: left;margin-right: 0.25em;color: #696969;}#sk-container-id-8 label.sk-toggleable__label-arrow:hover:before {color: black;}#sk-container-id-8 div.sk-estimator:hover label.sk-toggleable__label-arrow:before {color: black;}#sk-container-id-8 div.sk-toggleable__content {max-height: 0;max-width: 0;overflow: hidden;text-align: left;background-color: #f0f8ff;}#sk-container-id-8 div.sk-toggleable__content pre {margin: 0.2em;color: black;border-radius: 0.25em;background-color: #f0f8ff;}#sk-container-id-8 input.sk-toggleable__control:checked~div.sk-toggleable__content {max-height: 200px;max-width: 100%;overflow: auto;}#sk-container-id-8 input.sk-toggleable__control:checked~label.sk-toggleable__label-arrow:before {content: \"▾\";}#sk-container-id-8 div.sk-estimator input.sk-toggleable__control:checked~label.sk-toggleable__label {background-color: #d4ebff;}#sk-container-id-8 div.sk-label input.sk-toggleable__control:checked~label.sk-toggleable__label {background-color: #d4ebff;}#sk-container-id-8 input.sk-hidden--visually {border: 0;clip: rect(1px 1px 1px 1px);clip: rect(1px, 1px, 1px, 1px);height: 1px;margin: -1px;overflow: hidden;padding: 0;position: absolute;width: 1px;}#sk-container-id-8 div.sk-estimator {font-family: monospace;background-color: #f0f8ff;border: 1px dotted black;border-radius: 0.25em;box-sizing: border-box;margin-bottom: 0.5em;}#sk-container-id-8 div.sk-estimator:hover {background-color: #d4ebff;}#sk-container-id-8 div.sk-parallel-item::after {content: \"\";width: 100%;border-bottom: 1px solid gray;flex-grow: 1;}#sk-container-id-8 div.sk-label:hover label.sk-toggleable__label {background-color: #d4ebff;}#sk-container-id-8 div.sk-serial::before {content: \"\";position: absolute;border-left: 1px solid gray;box-sizing: border-box;top: 0;bottom: 0;left: 50%;z-index: 0;}#sk-container-id-8 div.sk-serial {display: flex;flex-direction: column;align-items: center;background-color: white;padding-right: 0.2em;padding-left: 0.2em;position: relative;}#sk-container-id-8 div.sk-item {position: relative;z-index: 1;}#sk-container-id-8 div.sk-parallel {display: flex;align-items: stretch;justify-content: center;background-color: white;position: relative;}#sk-container-id-8 div.sk-item::before, #sk-container-id-8 div.sk-parallel-item::before {content: \"\";position: absolute;border-left: 1px solid gray;box-sizing: border-box;top: 0;bottom: 0;left: 50%;z-index: -1;}#sk-container-id-8 div.sk-parallel-item {display: flex;flex-direction: column;z-index: 1;position: relative;background-color: white;}#sk-container-id-8 div.sk-parallel-item:first-child::after {align-self: flex-end;width: 50%;}#sk-container-id-8 div.sk-parallel-item:last-child::after {align-self: flex-start;width: 50%;}#sk-container-id-8 div.sk-parallel-item:only-child::after {width: 0;}#sk-container-id-8 div.sk-dashed-wrapped {border: 1px dashed gray;margin: 0 0.4em 0.5em 0.4em;box-sizing: border-box;padding-bottom: 0.4em;background-color: white;}#sk-container-id-8 div.sk-label label {font-family: monospace;font-weight: bold;display: inline-block;line-height: 1.2em;}#sk-container-id-8 div.sk-label-container {text-align: center;}#sk-container-id-8 div.sk-container {/* jupyter's `normalize.less` sets `[hidden] { display: none; }` but bootstrap.min.css set `[hidden] { display: none !important; }` so we also need the `!important` here to be able to override the default hidden behavior on the sphinx rendered scikit-learn.org. See: https://github.com/scikit-learn/scikit-learn/issues/21755 */display: inline-block !important;position: relative;}#sk-container-id-8 div.sk-text-repr-fallback {display: none;}</style><div id=\"sk-container-id-8\" class=\"sk-top-container\"><div class=\"sk-text-repr-fallback\"><pre>GridSearchCV(cv=KFold(n_splits=5, random_state=42, shuffle=True),\n",
       "             estimator=Pipeline(steps=[(&#x27;standardscaler&#x27;, StandardScaler()),\n",
       "                                       (&#x27;smote&#x27;, SMOTE(random_state=100)),\n",
       "                                       (&#x27;randomforestclassifier&#x27;,\n",
       "                                        RandomForestClassifier())]),\n",
       "             n_jobs=-1,\n",
       "             param_grid={&#x27;randomforestclassifier__criterion&#x27;: [&#x27;entropy&#x27;,\n",
       "                                                               &#x27;gini&#x27;],\n",
       "                         &#x27;randomforestclassifier__max_depth&#x27;: array([ 3,  4,  5,  6,  7,  9, 11]),\n",
       "                         &#x27;randomforestclassifier__min_samples_split&#x27;: array([2, 3, 4, 5, 6, 7]),\n",
       "                         &#x27;randomforestclassifier__n_estimators&#x27;: array([100])},\n",
       "             refit=False,\n",
       "             scoring=[&#x27;accuracy&#x27;, &#x27;precision&#x27;, &#x27;recall&#x27;, &#x27;f1&#x27;, &#x27;roc_auc&#x27;])</pre><b>In a Jupyter environment, please rerun this cell to show the HTML representation or trust the notebook. <br />On GitHub, the HTML representation is unable to render, please try loading this page with nbviewer.org.</b></div><div class=\"sk-container\" hidden><div class=\"sk-item sk-dashed-wrapped\"><div class=\"sk-label-container\"><div class=\"sk-label sk-toggleable\"><input class=\"sk-toggleable__control sk-hidden--visually\" id=\"sk-estimator-id-33\" type=\"checkbox\" ><label for=\"sk-estimator-id-33\" class=\"sk-toggleable__label sk-toggleable__label-arrow\">GridSearchCV</label><div class=\"sk-toggleable__content\"><pre>GridSearchCV(cv=KFold(n_splits=5, random_state=42, shuffle=True),\n",
       "             estimator=Pipeline(steps=[(&#x27;standardscaler&#x27;, StandardScaler()),\n",
       "                                       (&#x27;smote&#x27;, SMOTE(random_state=100)),\n",
       "                                       (&#x27;randomforestclassifier&#x27;,\n",
       "                                        RandomForestClassifier())]),\n",
       "             n_jobs=-1,\n",
       "             param_grid={&#x27;randomforestclassifier__criterion&#x27;: [&#x27;entropy&#x27;,\n",
       "                                                               &#x27;gini&#x27;],\n",
       "                         &#x27;randomforestclassifier__max_depth&#x27;: array([ 3,  4,  5,  6,  7,  9, 11]),\n",
       "                         &#x27;randomforestclassifier__min_samples_split&#x27;: array([2, 3, 4, 5, 6, 7]),\n",
       "                         &#x27;randomforestclassifier__n_estimators&#x27;: array([100])},\n",
       "             refit=False,\n",
       "             scoring=[&#x27;accuracy&#x27;, &#x27;precision&#x27;, &#x27;recall&#x27;, &#x27;f1&#x27;, &#x27;roc_auc&#x27;])</pre></div></div></div><div class=\"sk-parallel\"><div class=\"sk-parallel-item\"><div class=\"sk-item\"><div class=\"sk-label-container\"><div class=\"sk-label sk-toggleable\"><input class=\"sk-toggleable__control sk-hidden--visually\" id=\"sk-estimator-id-34\" type=\"checkbox\" ><label for=\"sk-estimator-id-34\" class=\"sk-toggleable__label sk-toggleable__label-arrow\">estimator: Pipeline</label><div class=\"sk-toggleable__content\"><pre>Pipeline(steps=[(&#x27;standardscaler&#x27;, StandardScaler()),\n",
       "                (&#x27;smote&#x27;, SMOTE(random_state=100)),\n",
       "                (&#x27;randomforestclassifier&#x27;, RandomForestClassifier())])</pre></div></div></div><div class=\"sk-serial\"><div class=\"sk-item\"><div class=\"sk-serial\"><div class=\"sk-item\"><div class=\"sk-estimator sk-toggleable\"><input class=\"sk-toggleable__control sk-hidden--visually\" id=\"sk-estimator-id-35\" type=\"checkbox\" ><label for=\"sk-estimator-id-35\" class=\"sk-toggleable__label sk-toggleable__label-arrow\">StandardScaler</label><div class=\"sk-toggleable__content\"><pre>StandardScaler()</pre></div></div></div><div class=\"sk-item\"><div class=\"sk-estimator sk-toggleable\"><input class=\"sk-toggleable__control sk-hidden--visually\" id=\"sk-estimator-id-36\" type=\"checkbox\" ><label for=\"sk-estimator-id-36\" class=\"sk-toggleable__label sk-toggleable__label-arrow\">SMOTE</label><div class=\"sk-toggleable__content\"><pre>SMOTE(random_state=100)</pre></div></div></div><div class=\"sk-item\"><div class=\"sk-estimator sk-toggleable\"><input class=\"sk-toggleable__control sk-hidden--visually\" id=\"sk-estimator-id-37\" type=\"checkbox\" ><label for=\"sk-estimator-id-37\" class=\"sk-toggleable__label sk-toggleable__label-arrow\">RandomForestClassifier</label><div class=\"sk-toggleable__content\"><pre>RandomForestClassifier()</pre></div></div></div></div></div></div></div></div></div></div></div></div>"
      ],
      "text/plain": [
       "GridSearchCV(cv=KFold(n_splits=5, random_state=42, shuffle=True),\n",
       "             estimator=Pipeline(steps=[('standardscaler', StandardScaler()),\n",
       "                                       ('smote', SMOTE(random_state=100)),\n",
       "                                       ('randomforestclassifier',\n",
       "                                        RandomForestClassifier())]),\n",
       "             n_jobs=-1,\n",
       "             param_grid={'randomforestclassifier__criterion': ['entropy',\n",
       "                                                               'gini'],\n",
       "                         'randomforestclassifier__max_depth': array([ 3,  4,  5,  6,  7,  9, 11]),\n",
       "                         'randomforestclassifier__min_samples_split': array([2, 3, 4, 5, 6, 7]),\n",
       "                         'randomforestclassifier__n_estimators': array([100])},\n",
       "             refit=False,\n",
       "             scoring=['accuracy', 'precision', 'recall', 'f1', 'roc_auc'])"
      ]
     },
     "execution_count": 215,
     "metadata": {},
     "output_type": "execute_result"
    }
   ],
   "source": [
    "gridRandomForest.fit(X, y)"
   ]
  },
  {
   "cell_type": "code",
   "execution_count": 218,
   "metadata": {},
   "outputs": [
    {
     "data": {
      "text/html": [
       "<div>\n",
       "<style scoped>\n",
       "    .dataframe tbody tr th:only-of-type {\n",
       "        vertical-align: middle;\n",
       "    }\n",
       "\n",
       "    .dataframe tbody tr th {\n",
       "        vertical-align: top;\n",
       "    }\n",
       "\n",
       "    .dataframe thead th {\n",
       "        text-align: right;\n",
       "    }\n",
       "</style>\n",
       "<table border=\"1\" class=\"dataframe\">\n",
       "  <thead>\n",
       "    <tr style=\"text-align: right;\">\n",
       "      <th></th>\n",
       "      <th>criterion</th>\n",
       "      <th>max_depth</th>\n",
       "      <th>min_samples_split</th>\n",
       "      <th>n_estimators</th>\n",
       "      <th>accuracy</th>\n",
       "      <th>precision</th>\n",
       "      <th>recall</th>\n",
       "      <th>f1</th>\n",
       "      <th>roc_auc</th>\n",
       "    </tr>\n",
       "  </thead>\n",
       "  <tbody>\n",
       "    <tr>\n",
       "      <th>79</th>\n",
       "      <td>gini</td>\n",
       "      <td>11</td>\n",
       "      <td>3</td>\n",
       "      <td>100</td>\n",
       "      <td>0.879338</td>\n",
       "      <td>0.906817</td>\n",
       "      <td>0.914511</td>\n",
       "      <td>0.910642</td>\n",
       "      <td>0.940346</td>\n",
       "    </tr>\n",
       "    <tr>\n",
       "      <th>83</th>\n",
       "      <td>gini</td>\n",
       "      <td>11</td>\n",
       "      <td>7</td>\n",
       "      <td>100</td>\n",
       "      <td>0.879311</td>\n",
       "      <td>0.906353</td>\n",
       "      <td>0.915045</td>\n",
       "      <td>0.910672</td>\n",
       "      <td>0.939952</td>\n",
       "    </tr>\n",
       "    <tr>\n",
       "      <th>78</th>\n",
       "      <td>gini</td>\n",
       "      <td>11</td>\n",
       "      <td>2</td>\n",
       "      <td>100</td>\n",
       "      <td>0.879283</td>\n",
       "      <td>0.907447</td>\n",
       "      <td>0.913656</td>\n",
       "      <td>0.910534</td>\n",
       "      <td>0.940471</td>\n",
       "    </tr>\n",
       "    <tr>\n",
       "      <th>80</th>\n",
       "      <td>gini</td>\n",
       "      <td>11</td>\n",
       "      <td>4</td>\n",
       "      <td>100</td>\n",
       "      <td>0.879228</td>\n",
       "      <td>0.906445</td>\n",
       "      <td>0.914798</td>\n",
       "      <td>0.910595</td>\n",
       "      <td>0.940221</td>\n",
       "    </tr>\n",
       "    <tr>\n",
       "      <th>81</th>\n",
       "      <td>gini</td>\n",
       "      <td>11</td>\n",
       "      <td>5</td>\n",
       "      <td>100</td>\n",
       "      <td>0.879145</td>\n",
       "      <td>0.906900</td>\n",
       "      <td>0.914102</td>\n",
       "      <td>0.910480</td>\n",
       "      <td>0.939925</td>\n",
       "    </tr>\n",
       "    <tr>\n",
       "      <th>...</th>\n",
       "      <td>...</td>\n",
       "      <td>...</td>\n",
       "      <td>...</td>\n",
       "      <td>...</td>\n",
       "      <td>...</td>\n",
       "      <td>...</td>\n",
       "      <td>...</td>\n",
       "      <td>...</td>\n",
       "      <td>...</td>\n",
       "    </tr>\n",
       "    <tr>\n",
       "      <th>0</th>\n",
       "      <td>entropy</td>\n",
       "      <td>3</td>\n",
       "      <td>2</td>\n",
       "      <td>100</td>\n",
       "      <td>0.783846</td>\n",
       "      <td>0.878268</td>\n",
       "      <td>0.787810</td>\n",
       "      <td>0.830477</td>\n",
       "      <td>0.858781</td>\n",
       "    </tr>\n",
       "    <tr>\n",
       "      <th>5</th>\n",
       "      <td>entropy</td>\n",
       "      <td>3</td>\n",
       "      <td>7</td>\n",
       "      <td>100</td>\n",
       "      <td>0.783790</td>\n",
       "      <td>0.873806</td>\n",
       "      <td>0.792988</td>\n",
       "      <td>0.831422</td>\n",
       "      <td>0.856339</td>\n",
       "    </tr>\n",
       "    <tr>\n",
       "      <th>1</th>\n",
       "      <td>entropy</td>\n",
       "      <td>3</td>\n",
       "      <td>3</td>\n",
       "      <td>100</td>\n",
       "      <td>0.783487</td>\n",
       "      <td>0.871850</td>\n",
       "      <td>0.794877</td>\n",
       "      <td>0.831552</td>\n",
       "      <td>0.858246</td>\n",
       "    </tr>\n",
       "    <tr>\n",
       "      <th>46</th>\n",
       "      <td>gini</td>\n",
       "      <td>3</td>\n",
       "      <td>6</td>\n",
       "      <td>100</td>\n",
       "      <td>0.783405</td>\n",
       "      <td>0.874912</td>\n",
       "      <td>0.790992</td>\n",
       "      <td>0.830811</td>\n",
       "      <td>0.859535</td>\n",
       "    </tr>\n",
       "    <tr>\n",
       "      <th>3</th>\n",
       "      <td>entropy</td>\n",
       "      <td>3</td>\n",
       "      <td>5</td>\n",
       "      <td>100</td>\n",
       "      <td>0.783129</td>\n",
       "      <td>0.869865</td>\n",
       "      <td>0.796698</td>\n",
       "      <td>0.831618</td>\n",
       "      <td>0.856017</td>\n",
       "    </tr>\n",
       "  </tbody>\n",
       "</table>\n",
       "<p>84 rows × 9 columns</p>\n",
       "</div>"
      ],
      "text/plain": [
       "   criterion  max_depth  min_samples_split  n_estimators  accuracy  precision  \\\n",
       "79      gini         11                  3           100  0.879338   0.906817   \n",
       "83      gini         11                  7           100  0.879311   0.906353   \n",
       "78      gini         11                  2           100  0.879283   0.907447   \n",
       "80      gini         11                  4           100  0.879228   0.906445   \n",
       "81      gini         11                  5           100  0.879145   0.906900   \n",
       "..       ...        ...                ...           ...       ...        ...   \n",
       "0    entropy          3                  2           100  0.783846   0.878268   \n",
       "5    entropy          3                  7           100  0.783790   0.873806   \n",
       "1    entropy          3                  3           100  0.783487   0.871850   \n",
       "46      gini          3                  6           100  0.783405   0.874912   \n",
       "3    entropy          3                  5           100  0.783129   0.869865   \n",
       "\n",
       "      recall        f1   roc_auc  \n",
       "79  0.914511  0.910642  0.940346  \n",
       "83  0.915045  0.910672  0.939952  \n",
       "78  0.913656  0.910534  0.940471  \n",
       "80  0.914798  0.910595  0.940221  \n",
       "81  0.914102  0.910480  0.939925  \n",
       "..       ...       ...       ...  \n",
       "0   0.787810  0.830477  0.858781  \n",
       "5   0.792988  0.831422  0.856339  \n",
       "1   0.794877  0.831552  0.858246  \n",
       "46  0.790992  0.830811  0.859535  \n",
       "3   0.796698  0.831618  0.856017  \n",
       "\n",
       "[84 rows x 9 columns]"
      ]
     },
     "execution_count": 218,
     "metadata": {},
     "output_type": "execute_result"
    }
   ],
   "source": [
    "columns = [\"mean_test_accuracy\", \"mean_test_precision\", \"mean_test_recall\", \"mean_test_f1\", \"mean_test_roc_auc\"]\n",
    "params = pd.DataFrame(gridRandomForest.cv_results_['params'])\n",
    "scores = pd.DataFrame(gridRandomForest.cv_results_)[columns]\n",
    "scores = pd.concat([params, scores], axis=1)\n",
    "\n",
    "#rename columns\n",
    "scores.columns = ['criterion', 'max_depth', 'min_samples_split', 'n_estimators', 'accuracy', 'precision', 'recall', 'f1', 'roc_auc']\n",
    "scores.sort_values(by=['accuracy'], ascending=False)"
   ]
  },
  {
   "cell_type": "code",
   "execution_count": 221,
   "metadata": {},
   "outputs": [
    {
     "data": {
      "text/plain": [
       "0.8795313576843556"
      ]
     },
     "execution_count": 221,
     "metadata": {},
     "output_type": "execute_result"
    },
    {
     "data": {
      "image/png": "[encoded data removed]",
      "text/plain": [
       "<Figure size 800x550 with 1 Axes>"
      ]
     },
     "metadata": {},
     "output_type": "display_data"
    }
   ],
   "source": [
    "forest_classifier = RandomForestClassifier(criterion='gini', max_depth=11, min_samples_split=3, n_estimators=100)\n",
    "forest_classifier.fit(x_train, y_train)\n",
    "y_pred = forest_classifier.predict(x_test)\n",
    "\n",
    "cm = ConfusionMatrix(forest_classifier)\n",
    "cm.fit(x_train, y_train)\n",
    "cm.score(x_test, y_test)"
   ]
  },
  {
   "attachments": {},
   "cell_type": "markdown",
   "metadata": {},
   "source": [
    "# xgBoost"
   ]
  },
  {
   "cell_type": "code",
   "execution_count": 223,
   "metadata": {},
   "outputs": [],
   "source": [
    "from xgboost import XGBClassifier\n",
    "\n",
    "n_estimators = np.array([100])\n",
    "max_nvl = np.array([3, 4, 5, 6, 7, 9, 11])\n",
    "values_grid = {'xgbclassifier__n_estimators': n_estimators, 'xgbclassifier__max_depth': max_nvl}\n",
    "classifier = make_pipeline(StandardScaler(), SMOTE(random_state=100), XGBClassifier()) \n",
    "\n",
    "gridXGBoost = GridSearchCV(classifier , param_grid = values_grid, cv = kf, scoring = scoring, n_jobs = -1, refit = False)"
   ]
  },
  {
   "cell_type": "code",
   "execution_count": 224,
   "metadata": {},
   "outputs": [
    {
     "data": {
      "text/html": [
       "<style>#sk-container-id-9 {color: black;background-color: white;}#sk-container-id-9 pre{padding: 0;}#sk-container-id-9 div.sk-toggleable {background-color: white;}#sk-container-id-9 label.sk-toggleable__label {cursor: pointer;display: block;width: 100%;margin-bottom: 0;padding: 0.3em;box-sizing: border-box;text-align: center;}#sk-container-id-9 label.sk-toggleable__label-arrow:before {content: \"▸\";float: left;margin-right: 0.25em;color: #696969;}#sk-container-id-9 label.sk-toggleable__label-arrow:hover:before {color: black;}#sk-container-id-9 div.sk-estimator:hover label.sk-toggleable__label-arrow:before {color: black;}#sk-container-id-9 div.sk-toggleable__content {max-height: 0;max-width: 0;overflow: hidden;text-align: left;background-color: #f0f8ff;}#sk-container-id-9 div.sk-toggleable__content pre {margin: 0.2em;color: black;border-radius: 0.25em;background-color: #f0f8ff;}#sk-container-id-9 input.sk-toggleable__control:checked~div.sk-toggleable__content {max-height: 200px;max-width: 100%;overflow: auto;}#sk-container-id-9 input.sk-toggleable__control:checked~label.sk-toggleable__label-arrow:before {content: \"▾\";}#sk-container-id-9 div.sk-estimator input.sk-toggleable__control:checked~label.sk-toggleable__label {background-color: #d4ebff;}#sk-container-id-9 div.sk-label input.sk-toggleable__control:checked~label.sk-toggleable__label {background-color: #d4ebff;}#sk-container-id-9 input.sk-hidden--visually {border: 0;clip: rect(1px 1px 1px 1px);clip: rect(1px, 1px, 1px, 1px);height: 1px;margin: -1px;overflow: hidden;padding: 0;position: absolute;width: 1px;}#sk-container-id-9 div.sk-estimator {font-family: monospace;background-color: #f0f8ff;border: 1px dotted black;border-radius: 0.25em;box-sizing: border-box;margin-bottom: 0.5em;}#sk-container-id-9 div.sk-estimator:hover {background-color: #d4ebff;}#sk-container-id-9 div.sk-parallel-item::after {content: \"\";width: 100%;border-bottom: 1px solid gray;flex-grow: 1;}#sk-container-id-9 div.sk-label:hover label.sk-toggleable__label {background-color: #d4ebff;}#sk-container-id-9 div.sk-serial::before {content: \"\";position: absolute;border-left: 1px solid gray;box-sizing: border-box;top: 0;bottom: 0;left: 50%;z-index: 0;}#sk-container-id-9 div.sk-serial {display: flex;flex-direction: column;align-items: center;background-color: white;padding-right: 0.2em;padding-left: 0.2em;position: relative;}#sk-container-id-9 div.sk-item {position: relative;z-index: 1;}#sk-container-id-9 div.sk-parallel {display: flex;align-items: stretch;justify-content: center;background-color: white;position: relative;}#sk-container-id-9 div.sk-item::before, #sk-container-id-9 div.sk-parallel-item::before {content: \"\";position: absolute;border-left: 1px solid gray;box-sizing: border-box;top: 0;bottom: 0;left: 50%;z-index: -1;}#sk-container-id-9 div.sk-parallel-item {display: flex;flex-direction: column;z-index: 1;position: relative;background-color: white;}#sk-container-id-9 div.sk-parallel-item:first-child::after {align-self: flex-end;width: 50%;}#sk-container-id-9 div.sk-parallel-item:last-child::after {align-self: flex-start;width: 50%;}#sk-container-id-9 div.sk-parallel-item:only-child::after {width: 0;}#sk-container-id-9 div.sk-dashed-wrapped {border: 1px dashed gray;margin: 0 0.4em 0.5em 0.4em;box-sizing: border-box;padding-bottom: 0.4em;background-color: white;}#sk-container-id-9 div.sk-label label {font-family: monospace;font-weight: bold;display: inline-block;line-height: 1.2em;}#sk-container-id-9 div.sk-label-container {text-align: center;}#sk-container-id-9 div.sk-container {/* jupyter's `normalize.less` sets `[hidden] { display: none; }` but bootstrap.min.css set `[hidden] { display: none !important; }` so we also need the `!important` here to be able to override the default hidden behavior on the sphinx rendered scikit-learn.org. See: https://github.com/scikit-learn/scikit-learn/issues/21755 */display: inline-block !important;position: relative;}#sk-container-id-9 div.sk-text-repr-fallback {display: none;}</style><div id=\"sk-container-id-9\" class=\"sk-top-container\"><div class=\"sk-text-repr-fallback\"><pre>GridSearchCV(cv=KFold(n_splits=5, random_state=42, shuffle=True),\n",
       "             estimator=Pipeline(steps=[(&#x27;standardscaler&#x27;, StandardScaler()),\n",
       "                                       (&#x27;smote&#x27;, SMOTE(random_state=100)),\n",
       "                                       (&#x27;xgbclassifier&#x27;,\n",
       "                                        XGBClassifier(base_score=None,\n",
       "                                                      booster=None,\n",
       "                                                      callbacks=None,\n",
       "                                                      colsample_bylevel=None,\n",
       "                                                      colsample_bynode=None,\n",
       "                                                      colsample_bytree=None,\n",
       "                                                      early_stopping_rounds=None,\n",
       "                                                      enable_categorical=Fal...\n",
       "                                                      max_leaves=None,\n",
       "                                                      min_child_weight=None,\n",
       "                                                      missing=nan,\n",
       "                                                      monotone_constraints=None,\n",
       "                                                      n_estimators=100,\n",
       "                                                      n_jobs=None,\n",
       "                                                      num_parallel_tree=None,\n",
       "                                                      predictor=None,\n",
       "                                                      random_state=None, ...))]),\n",
       "             n_jobs=-1,\n",
       "             param_grid={&#x27;xgbclassifier__max_depth&#x27;: array([ 3,  4,  5,  6,  7,  9, 11]),\n",
       "                         &#x27;xgbclassifier__n_estimators&#x27;: array([100])},\n",
       "             refit=False,\n",
       "             scoring=[&#x27;accuracy&#x27;, &#x27;precision&#x27;, &#x27;recall&#x27;, &#x27;f1&#x27;, &#x27;roc_auc&#x27;])</pre><b>In a Jupyter environment, please rerun this cell to show the HTML representation or trust the notebook. <br />On GitHub, the HTML representation is unable to render, please try loading this page with nbviewer.org.</b></div><div class=\"sk-container\" hidden><div class=\"sk-item sk-dashed-wrapped\"><div class=\"sk-label-container\"><div class=\"sk-label sk-toggleable\"><input class=\"sk-toggleable__control sk-hidden--visually\" id=\"sk-estimator-id-38\" type=\"checkbox\" ><label for=\"sk-estimator-id-38\" class=\"sk-toggleable__label sk-toggleable__label-arrow\">GridSearchCV</label><div class=\"sk-toggleable__content\"><pre>GridSearchCV(cv=KFold(n_splits=5, random_state=42, shuffle=True),\n",
       "             estimator=Pipeline(steps=[(&#x27;standardscaler&#x27;, StandardScaler()),\n",
       "                                       (&#x27;smote&#x27;, SMOTE(random_state=100)),\n",
       "                                       (&#x27;xgbclassifier&#x27;,\n",
       "                                        XGBClassifier(base_score=None,\n",
       "                                                      booster=None,\n",
       "                                                      callbacks=None,\n",
       "                                                      colsample_bylevel=None,\n",
       "                                                      colsample_bynode=None,\n",
       "                                                      colsample_bytree=None,\n",
       "                                                      early_stopping_rounds=None,\n",
       "                                                      enable_categorical=Fal...\n",
       "                                                      max_leaves=None,\n",
       "                                                      min_child_weight=None,\n",
       "                                                      missing=nan,\n",
       "                                                      monotone_constraints=None,\n",
       "                                                      n_estimators=100,\n",
       "                                                      n_jobs=None,\n",
       "                                                      num_parallel_tree=None,\n",
       "                                                      predictor=None,\n",
       "                                                      random_state=None, ...))]),\n",
       "             n_jobs=-1,\n",
       "             param_grid={&#x27;xgbclassifier__max_depth&#x27;: array([ 3,  4,  5,  6,  7,  9, 11]),\n",
       "                         &#x27;xgbclassifier__n_estimators&#x27;: array([100])},\n",
       "             refit=False,\n",
       "             scoring=[&#x27;accuracy&#x27;, &#x27;precision&#x27;, &#x27;recall&#x27;, &#x27;f1&#x27;, &#x27;roc_auc&#x27;])</pre></div></div></div><div class=\"sk-parallel\"><div class=\"sk-parallel-item\"><div class=\"sk-item\"><div class=\"sk-label-container\"><div class=\"sk-label sk-toggleable\"><input class=\"sk-toggleable__control sk-hidden--visually\" id=\"sk-estimator-id-39\" type=\"checkbox\" ><label for=\"sk-estimator-id-39\" class=\"sk-toggleable__label sk-toggleable__label-arrow\">estimator: Pipeline</label><div class=\"sk-toggleable__content\"><pre>Pipeline(steps=[(&#x27;standardscaler&#x27;, StandardScaler()),\n",
       "                (&#x27;smote&#x27;, SMOTE(random_state=100)),\n",
       "                (&#x27;xgbclassifier&#x27;,\n",
       "                 XGBClassifier(base_score=None, booster=None, callbacks=None,\n",
       "                               colsample_bylevel=None, colsample_bynode=None,\n",
       "                               colsample_bytree=None,\n",
       "                               early_stopping_rounds=None,\n",
       "                               enable_categorical=False, eval_metric=None,\n",
       "                               feature_types=None, gamma=None, gpu_id=None,\n",
       "                               grow_policy=None, importance_type=None,\n",
       "                               interaction_constraints=None, learning_rate=None,\n",
       "                               max_bin=None, max_cat_threshold=None,\n",
       "                               max_cat_to_onehot=None, max_delta_step=None,\n",
       "                               max_depth=None, max_leaves=None,\n",
       "                               min_child_weight=None, missing=nan,\n",
       "                               monotone_constraints=None, n_estimators=100,\n",
       "                               n_jobs=None, num_parallel_tree=None,\n",
       "                               predictor=None, random_state=None, ...))])</pre></div></div></div><div class=\"sk-serial\"><div class=\"sk-item\"><div class=\"sk-serial\"><div class=\"sk-item\"><div class=\"sk-estimator sk-toggleable\"><input class=\"sk-toggleable__control sk-hidden--visually\" id=\"sk-estimator-id-40\" type=\"checkbox\" ><label for=\"sk-estimator-id-40\" class=\"sk-toggleable__label sk-toggleable__label-arrow\">StandardScaler</label><div class=\"sk-toggleable__content\"><pre>StandardScaler()</pre></div></div></div><div class=\"sk-item\"><div class=\"sk-estimator sk-toggleable\"><input class=\"sk-toggleable__control sk-hidden--visually\" id=\"sk-estimator-id-41\" type=\"checkbox\" ><label for=\"sk-estimator-id-41\" class=\"sk-toggleable__label sk-toggleable__label-arrow\">SMOTE</label><div class=\"sk-toggleable__content\"><pre>SMOTE(random_state=100)</pre></div></div></div><div class=\"sk-item\"><div class=\"sk-estimator sk-toggleable\"><input class=\"sk-toggleable__control sk-hidden--visually\" id=\"sk-estimator-id-42\" type=\"checkbox\" ><label for=\"sk-estimator-id-42\" class=\"sk-toggleable__label sk-toggleable__label-arrow\">XGBClassifier</label><div class=\"sk-toggleable__content\"><pre>XGBClassifier(base_score=None, booster=None, callbacks=None,\n",
       "              colsample_bylevel=None, colsample_bynode=None,\n",
       "              colsample_bytree=None, early_stopping_rounds=None,\n",
       "              enable_categorical=False, eval_metric=None, feature_types=None,\n",
       "              gamma=None, gpu_id=None, grow_policy=None, importance_type=None,\n",
       "              interaction_constraints=None, learning_rate=None, max_bin=None,\n",
       "              max_cat_threshold=None, max_cat_to_onehot=None,\n",
       "              max_delta_step=None, max_depth=None, max_leaves=None,\n",
       "              min_child_weight=None, missing=nan, monotone_constraints=None,\n",
       "              n_estimators=100, n_jobs=None, num_parallel_tree=None,\n",
       "              predictor=None, random_state=None, ...)</pre></div></div></div></div></div></div></div></div></div></div></div></div>"
      ],
      "text/plain": [
       "GridSearchCV(cv=KFold(n_splits=5, random_state=42, shuffle=True),\n",
       "             estimator=Pipeline(steps=[('standardscaler', StandardScaler()),\n",
       "                                       ('smote', SMOTE(random_state=100)),\n",
       "                                       ('xgbclassifier',\n",
       "                                        XGBClassifier(base_score=None,\n",
       "                                                      booster=None,\n",
       "                                                      callbacks=None,\n",
       "                                                      colsample_bylevel=None,\n",
       "                                                      colsample_bynode=None,\n",
       "                                                      colsample_bytree=None,\n",
       "                                                      early_stopping_rounds=None,\n",
       "                                                      enable_categorical=Fal...\n",
       "                                                      max_leaves=None,\n",
       "                                                      min_child_weight=None,\n",
       "                                                      missing=nan,\n",
       "                                                      monotone_constraints=None,\n",
       "                                                      n_estimators=100,\n",
       "                                                      n_jobs=None,\n",
       "                                                      num_parallel_tree=None,\n",
       "                                                      predictor=None,\n",
       "                                                      random_state=None, ...))]),\n",
       "             n_jobs=-1,\n",
       "             param_grid={'xgbclassifier__max_depth': array([ 3,  4,  5,  6,  7,  9, 11]),\n",
       "                         'xgbclassifier__n_estimators': array([100])},\n",
       "             refit=False,\n",
       "             scoring=['accuracy', 'precision', 'recall', 'f1', 'roc_auc'])"
      ]
     },
     "execution_count": 224,
     "metadata": {},
     "output_type": "execute_result"
    }
   ],
   "source": [
    "gridXGBoost.fit(X, y)"
   ]
  },
  {
   "cell_type": "code",
   "execution_count": 225,
   "metadata": {},
   "outputs": [
    {
     "data": {
      "text/html": [
       "<div>\n",
       "<style scoped>\n",
       "    .dataframe tbody tr th:only-of-type {\n",
       "        vertical-align: middle;\n",
       "    }\n",
       "\n",
       "    .dataframe tbody tr th {\n",
       "        vertical-align: top;\n",
       "    }\n",
       "\n",
       "    .dataframe thead th {\n",
       "        text-align: right;\n",
       "    }\n",
       "</style>\n",
       "<table border=\"1\" class=\"dataframe\">\n",
       "  <thead>\n",
       "    <tr style=\"text-align: right;\">\n",
       "      <th></th>\n",
       "      <th>max_depth</th>\n",
       "      <th>n_estimators</th>\n",
       "      <th>accuracy</th>\n",
       "      <th>precision</th>\n",
       "      <th>recall</th>\n",
       "      <th>f1</th>\n",
       "      <th>roc_auc</th>\n",
       "    </tr>\n",
       "  </thead>\n",
       "  <tbody>\n",
       "    <tr>\n",
       "      <th>6</th>\n",
       "      <td>11</td>\n",
       "      <td>100</td>\n",
       "      <td>0.897753</td>\n",
       "      <td>0.918842</td>\n",
       "      <td>0.930097</td>\n",
       "      <td>0.924423</td>\n",
       "      <td>0.956994</td>\n",
       "    </tr>\n",
       "    <tr>\n",
       "      <th>5</th>\n",
       "      <td>9</td>\n",
       "      <td>100</td>\n",
       "      <td>0.896320</td>\n",
       "      <td>0.918709</td>\n",
       "      <td>0.927915</td>\n",
       "      <td>0.923279</td>\n",
       "      <td>0.956821</td>\n",
       "    </tr>\n",
       "    <tr>\n",
       "      <th>4</th>\n",
       "      <td>7</td>\n",
       "      <td>100</td>\n",
       "      <td>0.893535</td>\n",
       "      <td>0.915723</td>\n",
       "      <td>0.926975</td>\n",
       "      <td>0.921305</td>\n",
       "      <td>0.954392</td>\n",
       "    </tr>\n",
       "    <tr>\n",
       "      <th>3</th>\n",
       "      <td>6</td>\n",
       "      <td>100</td>\n",
       "      <td>0.887829</td>\n",
       "      <td>0.911667</td>\n",
       "      <td>0.922590</td>\n",
       "      <td>0.917083</td>\n",
       "      <td>0.951227</td>\n",
       "    </tr>\n",
       "    <tr>\n",
       "      <th>2</th>\n",
       "      <td>5</td>\n",
       "      <td>100</td>\n",
       "      <td>0.884025</td>\n",
       "      <td>0.910894</td>\n",
       "      <td>0.917267</td>\n",
       "      <td>0.914054</td>\n",
       "      <td>0.947139</td>\n",
       "    </tr>\n",
       "    <tr>\n",
       "      <th>1</th>\n",
       "      <td>4</td>\n",
       "      <td>100</td>\n",
       "      <td>0.876003</td>\n",
       "      <td>0.905799</td>\n",
       "      <td>0.910255</td>\n",
       "      <td>0.908012</td>\n",
       "      <td>0.940132</td>\n",
       "    </tr>\n",
       "    <tr>\n",
       "      <th>0</th>\n",
       "      <td>3</td>\n",
       "      <td>100</td>\n",
       "      <td>0.860703</td>\n",
       "      <td>0.901044</td>\n",
       "      <td>0.890667</td>\n",
       "      <td>0.895811</td>\n",
       "      <td>0.928753</td>\n",
       "    </tr>\n",
       "  </tbody>\n",
       "</table>\n",
       "</div>"
      ],
      "text/plain": [
       "   max_depth  n_estimators  accuracy  precision    recall        f1   roc_auc\n",
       "6         11           100  0.897753   0.918842  0.930097  0.924423  0.956994\n",
       "5          9           100  0.896320   0.918709  0.927915  0.923279  0.956821\n",
       "4          7           100  0.893535   0.915723  0.926975  0.921305  0.954392\n",
       "3          6           100  0.887829   0.911667  0.922590  0.917083  0.951227\n",
       "2          5           100  0.884025   0.910894  0.917267  0.914054  0.947139\n",
       "1          4           100  0.876003   0.905799  0.910255  0.908012  0.940132\n",
       "0          3           100  0.860703   0.901044  0.890667  0.895811  0.928753"
      ]
     },
     "execution_count": 225,
     "metadata": {},
     "output_type": "execute_result"
    }
   ],
   "source": [
    "columns = [\"mean_test_accuracy\", \"mean_test_precision\", \"mean_test_recall\", \"mean_test_f1\", \"mean_test_roc_auc\"]\n",
    "params = pd.DataFrame(gridXGBoost.cv_results_['params'])\n",
    "scores = pd.DataFrame(gridXGBoost.cv_results_)[columns]\n",
    "scores = pd.concat([params, scores], axis=1)\n",
    "\n",
    "#rename columns\n",
    "scores.columns = ['max_depth', 'n_estimators', 'accuracy', 'precision', 'recall', 'f1', 'roc_auc']\n",
    "scores.sort_values(by=['accuracy'], ascending=False)"
   ]
  },
  {
   "cell_type": "code",
   "execution_count": null,
   "metadata": {},
   "outputs": [],
   "source": [
    "xgb_classifier = XGBClassifier(max_depth=11, n_estimators=100)\n",
    "xgb_classifier.fit(x_train, y_train)\n",
    "y_pred = xgb_classifier.predict(x_test)\n",
    "\n",
    "cm = ConfusionMatrix(xgb_classifier)\n",
    "cm.fit(x_train, y_train)\n",
    "cm.score(x_test, y_test)"
   ]
  },
  {
   "attachments": {},
   "cell_type": "markdown",
   "metadata": {},
   "source": [
    "# SVM"
   ]
  },
  {
   "cell_type": "code",
   "execution_count": 163,
   "metadata": {},
   "outputs": [
    {
     "data": {
      "text/plain": [
       "(31219,)"
      ]
     },
     "execution_count": 163,
     "metadata": {},
     "output_type": "execute_result"
    }
   ],
   "source": [
    "y_train_flatten = np.argmax(y_train, axis=1)"
   ]
  },
  {
   "cell_type": "code",
   "execution_count": 164,
   "metadata": {},
   "outputs": [
    {
     "name": "stdout",
     "output_type": "stream",
     "text": [
      "0.7726527265272652\n"
     ]
    }
   ],
   "source": [
    "# implement SVM\n",
    "from sklearn.svm import SVC\n",
    "# use SVC with linear kernel\n",
    "classifier = SVC(kernel = 'linear', random_state = 0)\n",
    "\n",
    "#transform y_train from one-hot to categorical\n",
    "\n",
    "classifier.fit(X_train, y_train)\n",
    "y_pred = classifier.predict(X_test)\n",
    "score = accuracy_score(y_test, y_pred)\n",
    "print(score)\n"
   ]
  },
  {
   "attachments": {},
   "cell_type": "markdown",
   "metadata": {},
   "source": [
    "# ExtraTrees"
   ]
  },
  {
   "cell_type": "code",
   "execution_count": 138,
   "metadata": {},
   "outputs": [
    {
     "data": {
      "text/html": [
       "<style>#sk-container-id-10 {color: black;background-color: white;}#sk-container-id-10 pre{padding: 0;}#sk-container-id-10 div.sk-toggleable {background-color: white;}#sk-container-id-10 label.sk-toggleable__label {cursor: pointer;display: block;width: 100%;margin-bottom: 0;padding: 0.3em;box-sizing: border-box;text-align: center;}#sk-container-id-10 label.sk-toggleable__label-arrow:before {content: \"▸\";float: left;margin-right: 0.25em;color: #696969;}#sk-container-id-10 label.sk-toggleable__label-arrow:hover:before {color: black;}#sk-container-id-10 div.sk-estimator:hover label.sk-toggleable__label-arrow:before {color: black;}#sk-container-id-10 div.sk-toggleable__content {max-height: 0;max-width: 0;overflow: hidden;text-align: left;background-color: #f0f8ff;}#sk-container-id-10 div.sk-toggleable__content pre {margin: 0.2em;color: black;border-radius: 0.25em;background-color: #f0f8ff;}#sk-container-id-10 input.sk-toggleable__control:checked~div.sk-toggleable__content {max-height: 200px;max-width: 100%;overflow: auto;}#sk-container-id-10 input.sk-toggleable__control:checked~label.sk-toggleable__label-arrow:before {content: \"▾\";}#sk-container-id-10 div.sk-estimator input.sk-toggleable__control:checked~label.sk-toggleable__label {background-color: #d4ebff;}#sk-container-id-10 div.sk-label input.sk-toggleable__control:checked~label.sk-toggleable__label {background-color: #d4ebff;}#sk-container-id-10 input.sk-hidden--visually {border: 0;clip: rect(1px 1px 1px 1px);clip: rect(1px, 1px, 1px, 1px);height: 1px;margin: -1px;overflow: hidden;padding: 0;position: absolute;width: 1px;}#sk-container-id-10 div.sk-estimator {font-family: monospace;background-color: #f0f8ff;border: 1px dotted black;border-radius: 0.25em;box-sizing: border-box;margin-bottom: 0.5em;}#sk-container-id-10 div.sk-estimator:hover {background-color: #d4ebff;}#sk-container-id-10 div.sk-parallel-item::after {content: \"\";width: 100%;border-bottom: 1px solid gray;flex-grow: 1;}#sk-container-id-10 div.sk-label:hover label.sk-toggleable__label {background-color: #d4ebff;}#sk-container-id-10 div.sk-serial::before {content: \"\";position: absolute;border-left: 1px solid gray;box-sizing: border-box;top: 0;bottom: 0;left: 50%;z-index: 0;}#sk-container-id-10 div.sk-serial {display: flex;flex-direction: column;align-items: center;background-color: white;padding-right: 0.2em;padding-left: 0.2em;position: relative;}#sk-container-id-10 div.sk-item {position: relative;z-index: 1;}#sk-container-id-10 div.sk-parallel {display: flex;align-items: stretch;justify-content: center;background-color: white;position: relative;}#sk-container-id-10 div.sk-item::before, #sk-container-id-10 div.sk-parallel-item::before {content: \"\";position: absolute;border-left: 1px solid gray;box-sizing: border-box;top: 0;bottom: 0;left: 50%;z-index: -1;}#sk-container-id-10 div.sk-parallel-item {display: flex;flex-direction: column;z-index: 1;position: relative;background-color: white;}#sk-container-id-10 div.sk-parallel-item:first-child::after {align-self: flex-end;width: 50%;}#sk-container-id-10 div.sk-parallel-item:last-child::after {align-self: flex-start;width: 50%;}#sk-container-id-10 div.sk-parallel-item:only-child::after {width: 0;}#sk-container-id-10 div.sk-dashed-wrapped {border: 1px dashed gray;margin: 0 0.4em 0.5em 0.4em;box-sizing: border-box;padding-bottom: 0.4em;background-color: white;}#sk-container-id-10 div.sk-label label {font-family: monospace;font-weight: bold;display: inline-block;line-height: 1.2em;}#sk-container-id-10 div.sk-label-container {text-align: center;}#sk-container-id-10 div.sk-container {/* jupyter's `normalize.less` sets `[hidden] { display: none; }` but bootstrap.min.css set `[hidden] { display: none !important; }` so we also need the `!important` here to be able to override the default hidden behavior on the sphinx rendered scikit-learn.org. See: https://github.com/scikit-learn/scikit-learn/issues/21755 */display: inline-block !important;position: relative;}#sk-container-id-10 div.sk-text-repr-fallback {display: none;}</style><div id=\"sk-container-id-10\" class=\"sk-top-container\"><div class=\"sk-text-repr-fallback\"><pre>GridSearchCV(cv=5, estimator=ExtraTreesClassifier(),\n",
       "             param_grid={&#x27;criterion&#x27;: [&#x27;entropy&#x27;, &#x27;gini&#x27;],\n",
       "                         &#x27;n_estimators&#x27;: array([100])})</pre><b>In a Jupyter environment, please rerun this cell to show the HTML representation or trust the notebook. <br />On GitHub, the HTML representation is unable to render, please try loading this page with nbviewer.org.</b></div><div class=\"sk-container\" hidden><div class=\"sk-item sk-dashed-wrapped\"><div class=\"sk-label-container\"><div class=\"sk-label sk-toggleable\"><input class=\"sk-toggleable__control sk-hidden--visually\" id=\"sk-estimator-id-28\" type=\"checkbox\" ><label for=\"sk-estimator-id-28\" class=\"sk-toggleable__label sk-toggleable__label-arrow\">GridSearchCV</label><div class=\"sk-toggleable__content\"><pre>GridSearchCV(cv=5, estimator=ExtraTreesClassifier(),\n",
       "             param_grid={&#x27;criterion&#x27;: [&#x27;entropy&#x27;, &#x27;gini&#x27;],\n",
       "                         &#x27;n_estimators&#x27;: array([100])})</pre></div></div></div><div class=\"sk-parallel\"><div class=\"sk-parallel-item\"><div class=\"sk-item\"><div class=\"sk-label-container\"><div class=\"sk-label sk-toggleable\"><input class=\"sk-toggleable__control sk-hidden--visually\" id=\"sk-estimator-id-29\" type=\"checkbox\" ><label for=\"sk-estimator-id-29\" class=\"sk-toggleable__label sk-toggleable__label-arrow\">estimator: ExtraTreesClassifier</label><div class=\"sk-toggleable__content\"><pre>ExtraTreesClassifier()</pre></div></div></div><div class=\"sk-serial\"><div class=\"sk-item\"><div class=\"sk-estimator sk-toggleable\"><input class=\"sk-toggleable__control sk-hidden--visually\" id=\"sk-estimator-id-30\" type=\"checkbox\" ><label for=\"sk-estimator-id-30\" class=\"sk-toggleable__label sk-toggleable__label-arrow\">ExtraTreesClassifier</label><div class=\"sk-toggleable__content\"><pre>ExtraTreesClassifier()</pre></div></div></div></div></div></div></div></div></div></div>"
      ],
      "text/plain": [
       "GridSearchCV(cv=5, estimator=ExtraTreesClassifier(),\n",
       "             param_grid={'criterion': ['entropy', 'gini'],\n",
       "                         'n_estimators': array([100])})"
      ]
     },
     "execution_count": 138,
     "metadata": {},
     "output_type": "execute_result"
    }
   ],
   "source": [
    "from sklearn.ensemble import ExtraTreesClassifier\n",
    "\n",
    "n_estimators = np.array([100])\n",
    "alg = ['entropy', 'gini']\n",
    "values_grid = {'n_estimators': n_estimators, 'criterion': alg}\n",
    "\n",
    "model = ExtraTreesClassifier()\n",
    "gridExtraTrees = GridSearchCV(estimator = model, param_grid = values_grid, cv = 5)\n",
    "gridExtraTrees.fit(X_val, y_val)"
   ]
  },
  {
   "cell_type": "code",
   "execution_count": 141,
   "metadata": {},
   "outputs": [
    {
     "name": "stdout",
     "output_type": "stream",
     "text": [
      "Algorithm:  entropy\n",
      "Score:  0.8701317715959004\n"
     ]
    }
   ],
   "source": [
    "\n",
    "print('Algorithm: ', gridExtraTrees.best_estimator_.criterion)\n",
    "print('Score: ', gridExtraTrees.best_score_)"
   ]
  },
  {
   "cell_type": "code",
   "execution_count": 142,
   "metadata": {},
   "outputs": [],
   "source": [
    "extra_trees = ExtraTreesClassifier(n_estimators = 100, criterion = 'gini', random_state = 0)\n",
    "extra_trees.fit(X_train, y_train)\n",
    "previsoes = extra_trees.predict(X_test)"
   ]
  },
  {
   "cell_type": "code",
   "execution_count": 143,
   "metadata": {},
   "outputs": [
    {
     "data": {
      "text/plain": [
       "0.9214842148421484"
      ]
     },
     "execution_count": 143,
     "metadata": {},
     "output_type": "execute_result"
    }
   ],
   "source": [
    "accuracy_score(y_test, previsoes)"
   ]
  },
  {
   "attachments": {},
   "cell_type": "markdown",
   "metadata": {},
   "source": [
    "# Observations"
   ]
  },
  {
   "attachments": {},
   "cell_type": "markdown",
   "metadata": {},
   "source": [
    "We noticed that using StandardScaler on the data decreased the accuracy on Naive Bayes classifier."
   ]
  }
 ],
 "metadata": {
  "kernelspec": {
   "display_name": "DataMining",
   "language": "python",
   "name": "python3"
  },
  "language_info": {
   "codemirror_mode": {
    "name": "ipython",
    "version": 3
   },
   "file_extension": ".py",
   "mimetype": "text/x-python",
   "name": "python",
   "nbconvert_exporter": "python",
   "pygments_lexer": "ipython3",
   "version": "3.10.9"
  },
  "orig_nbformat": 4
 },
 "nbformat": 4,
 "nbformat_minor": 2
}

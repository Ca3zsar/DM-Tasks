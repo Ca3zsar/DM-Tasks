{
 "cells": [
  {
   "cell_type": "code",
   "execution_count": null,
   "metadata": {
    "collapsed": false
   },
   "outputs": [],
   "source": [
    "# read the hotel reservation file\n",
    "import pandas as pd\n",
    "import matplotlib.pyplot as plt\n",
    "from scipy import stats\n",
    "hotel = pd.read_csv('Hotel Reservations.csv')\n"
   ]
  },
  {
   "cell_type": "code",
   "execution_count": null,
   "metadata": {},
   "outputs": [],
   "source": [
    "#Check the columns and data types\n",
    "hotel.info() "
   ]
  },
  {
   "cell_type": "code",
   "execution_count": null,
   "metadata": {},
   "outputs": [],
   "source": [
    "# tendinta centrala + frequency of categorical and numerical variables\n",
    "def central_tendency(df, col, categorical=False):\n",
    "    if not categorical:\n",
    "        print('Mean: ', df[col].mean())\n",
    "        print('Median: ', df[col].median())\n",
    "    print('Mode: ', df[col].mode())\n",
    "    # print also the frequency of the mode\n",
    "    print('Frequency: ', df[col].value_counts()[df[col].mode()[0]] / len(df[col]) * 100, '%')\n",
    "\n",
    "\n",
    "for col in hotel.columns[1:]: # without the Booking_id column\n",
    "    if hotel[col].dtype == 'object':\n",
    "        central_tendency(hotel, col, categorical=True)\n",
    "    else:\n",
    "        central_tendency(hotel, col)\n",
    "    print(\"---------------------\")"
   ]
  },
  {
   "cell_type": "code",
   "execution_count": null,
   "metadata": {},
   "outputs": [],
   "source": [
    "def categorical_to_numeric(column):\n",
    "    return column.astype('category').cat.codes\n",
    "\n",
    "# imprastierea variabilelor numerice\n",
    "def dispersion(df, col):\n",
    "    print(\"Dispersion for column: \", col.name)\n",
    "    print('Range: ', col.max() - col.min())\n",
    "    print('Variance: ', col.var())\n",
    "    print('Standard Deviation: ', col.std())\n",
    "    #Skewness = 0 (normally distributed)\n",
    "    #Skewness > 0 (positively skewed. Longer tail on the right side of the distribution)\n",
    "    #Skewness < 0 (negatively skewed. Longer tail on the left side of the distribution)\n",
    "    print('Skewness: ', col.skew())\n",
    "    #Excess Kurtosis = Kurtosis - 3 (0 for normal distribution)\n",
    "    # Leptokurtic: Kurtosis > 0 (more outliers than normal distribution)\n",
    "    # Platykurtic: Kurtosis < 0 (less outliers than normal distribution)\n",
    "    print('Kurtosis: ', col.kurt()) \n",
    "    \n",
    "\n",
    "for col in hotel.columns[1:]: # without the Booking_id column\n",
    "    if hotel[col].dtype != 'object':        \n",
    "        dispersion(hotel, hotel[col])\n",
    "    else:\n",
    "        dispersion(hotel, categorical_to_numeric(hotel[col]))   \n",
    "    print(\"---------------------\")\n",
    "\n",
    "    "
   ]
  },
  {
   "cell_type": "code",
   "execution_count": null,
   "metadata": {},
   "outputs": [],
   "source": [
    "# grafice (box plot)\n",
    "def box_plot(col):\n",
    "    plt.boxplot(col)\n",
    "    plt.title(col.name)\n",
    "    plt.show()\n",
    "\n",
    "for col in hotel.columns[1:]: # without the Booking_id column\n",
    "    if hotel[col].dtype != 'object':\n",
    "        box_plot(hotel[col])\n",
    "    else:\n",
    "        box_plot(categorical_to_numeric(hotel[col]))"
   ]
  },
  {
   "cell_type": "code",
   "execution_count": null,
   "metadata": {},
   "outputs": [],
   "source": [
    "# histograma\n",
    "def histogram(col):\n",
    "    plt.hist(col)\n",
    "    plt.title(col.name)\n",
    "    plt.show()\n",
    "\n",
    "for col in hotel.columns[1:]: # without the Booking_id column\n",
    "    if hotel[col].dtype != 'object':\n",
    "        histogram(hotel[col])"
   ]
  },
  {
   "cell_type": "code",
   "execution_count": null,
   "metadata": {},
   "outputs": [],
   "source": [
    "#density plot\n",
    "def density_plot(col):\n",
    "    col.plot(kind='density')\n",
    "    plt.title(col.name)\n",
    "    plt.show()\n",
    "\n",
    "for col in hotel.columns[1:]: # without the Booking_id column\n",
    "    if hotel[col].dtype != 'object':\n",
    "        density_plot(hotel[col])"
   ]
  },
  {
   "cell_type": "code",
   "execution_count": null,
   "metadata": {},
   "outputs": [],
   "source": [
    "#Analiza bivariata"
   ]
  },
  {
   "cell_type": "code",
   "execution_count": null,
   "metadata": {},
   "outputs": [],
   "source": [
    "# calcul de corelatii (bivariata)\n",
    "def corelation(col1, col2, name1, name2):\n",
    "    print('Correlation between ', name1, ' and ', name2, ' is: ', col1.corr(col2))\n",
    "\n",
    "for i in range(1,len(hotel.columns) - 1):\n",
    "    for j in range(i+1, len(hotel.columns)):\n",
    "        first_column = hotel[hotel.columns[i]].copy()\n",
    "        second_column = hotel[hotel.columns[j]].copy()\n",
    "        first_name = hotel[hotel.columns[i]].name\n",
    "        second_name = hotel[hotel.columns[j]].name\n",
    "\n",
    "        if first_column.dtype == 'object':\n",
    "            first_column = categorical_to_numeric(first_column)\n",
    "        if second_column.dtype == 'object':\n",
    "            second_column = categorical_to_numeric(second_column)\n",
    "\n",
    "        corelation(first_column, second_column, first_name, second_name)\n",
    "\n"
   ]
  },
  {
   "attachments": {},
   "cell_type": "markdown",
   "metadata": {},
   "source": [
    "OBS: - corelatie pozitiva(mare) intre: market_segment, avg_price_per_room  \n",
    "                                        request_quest, no_of_previous_bookings"
   ]
  },
  {
   "cell_type": "code",
   "execution_count": null,
   "metadata": {},
   "outputs": [],
   "source": [
    "# Test de indepedenta???????"
   ]
  },
  {
   "cell_type": "code",
   "execution_count": null,
   "metadata": {},
   "outputs": [],
   "source": [
    "# Teste ce compara mai multe populatii (Testul mediilor)\n",
    "# Testul Kruskal-Wallis\n",
    "def kruskal_wallis_test(col1, col2, name1, name2):\n",
    "    print('Kruskal-Wallis test between ', name1, ' and ', name2, ' is: ', stats.f_oneway(col1, col2).pvalue)\n",
    "\n",
    "\n",
    "def t_test(col1, col2, name1, name2):\n",
    "    print('T-test between ', name1, ' and ', name2, ' is: ', stats.ttest_ind(col1, col2).pvalue)\n",
    "\n",
    "\n",
    "for i in range(1,len(hotel.columns) - 1):\n",
    "    for j in range(i+1, len(hotel.columns)):\n",
    "        first_column = hotel[hotel.columns[i]].copy()\n",
    "        second_column = hotel[hotel.columns[j]].copy()\n",
    "        first_name = hotel[hotel.columns[i]].name\n",
    "        second_name = hotel[hotel.columns[j]].name\n",
    "\n",
    "        if first_column.dtype == 'object':\n",
    "            first_column = categorical_to_numeric(first_column)\n",
    "        if second_column.dtype == 'object':\n",
    "            second_column = categorical_to_numeric(second_column)\n",
    "\n",
    "        t_test(first_column, second_column, first_name, second_name)"
   ]
  },
  {
   "cell_type": "code",
   "execution_count": null,
   "metadata": {},
   "outputs": [],
   "source": [
    "# scatter plot pe combinatii de 2 variabile (atribute numerice)\n",
    "def scatter_plot(col1, col2, name1, name2):\n",
    "    plt.scatter(col1, col2)\n",
    "    plt.title(name1 + ' vs ' + name2)\n",
    "    plt.xlabel(name1)\n",
    "    plt.ylabel(name2)\n",
    "    plt.show()\n",
    "\n",
    "    \n",
    "for i in range(1,len(hotel.columns) - 1):\n",
    "    for j in range(i+1, len(hotel.columns)):\n",
    "        first_column = hotel[hotel.columns[i]].copy()\n",
    "        second_column = hotel[hotel.columns[j]].copy()\n",
    "        first_name = hotel[hotel.columns[i]].name\n",
    "        second_name = hotel[hotel.columns[j]].name\n",
    "\n",
    "        if first_column.dtype == 'object':\n",
    "            first_column = categorical_to_numeric(first_column)\n",
    "        if second_column.dtype == 'object':\n",
    "            second_column = categorical_to_numeric(second_column)\n",
    "\n",
    "        scatter_plot(first_column, second_column, first_name, second_name)"
   ]
  },
  {
   "cell_type": "code",
   "execution_count": null,
   "metadata": {},
   "outputs": [],
   "source": [
    "# 3d grafic (atribute numerice)\n",
    "def scatter_3d_plot(col1, col2, col3, name1, name2, name3):\n",
    "    fig = plt.figure()\n",
    "    # fig.add_subplot(111, projection='3d')\n",
    "    ax = fig.add_subplot(111, projection='3d')\n",
    "    ax.scatter(col1, col2, col3)\n",
    "    ax.set_xlabel(name1)\n",
    "    ax.set_ylabel(name2)\n",
    "    ax.set_zlabel(name3)\n",
    "    plt.show()\n",
    "\n",
    "for i in range(1,len(hotel.columns) - 1):\n",
    "    for j in range(i+1, len(hotel.columns)):\n",
    "        for k in range(j+1, len(hotel.columns)):\n",
    "            first_column = hotel[hotel.columns[i]].copy()\n",
    "            second_column = hotel[hotel.columns[j]].copy()\n",
    "            third_column = hotel[hotel.columns[k]].copy()\n",
    "            first_name = hotel[hotel.columns[i]].name\n",
    "            second_name = hotel[hotel.columns[j]].name\n",
    "            third_name = hotel[hotel.columns[k]].name\n",
    "\n",
    "            if first_column.dtype == 'object':\n",
    "                first_column = categorical_to_numeric(first_column)\n",
    "            if second_column.dtype == 'object':\n",
    "                second_column = categorical_to_numeric(second_column)\n",
    "            if third_column.dtype == 'object':\n",
    "                third_column = categorical_to_numeric(third_column)\n",
    "\n",
    "            # scatter_3d_plot(first_column, second_column, third_column, first_name, second_name, third_name)"
   ]
  },
  {
   "cell_type": "code",
   "execution_count": null,
   "metadata": {},
   "outputs": [],
   "source": []
  },
  {
   "cell_type": "code",
   "execution_count": null,
   "metadata": {},
   "outputs": [],
   "source": []
  },
  {
   "cell_type": "code",
   "execution_count": null,
   "metadata": {},
   "outputs": [],
   "source": []
  }
 ],
 "metadata": {
  "colab": {
   "authorship_tag": "ABX9TyOOCZ8aa6xdv1AkEkVDPdai",
   "include_colab_link": true,
   "provenance": []
  },
  "kernelspec": {
   "display_name": "DataMining",
   "language": "python",
   "name": "python3"
  },
  "language_info": {
   "codemirror_mode": {
    "name": "ipython",
    "version": 3
   },
   "file_extension": ".py",
   "mimetype": "text/x-python",
   "name": "python",
   "nbconvert_exporter": "python",
   "pygments_lexer": "ipython3",
   "version": "3.10.9"
  },
  "vscode": {
   "interpreter": {
    "hash": "6d1abdc415b7c692bf37fa7d881c1ac5eb393168c7a787cb52c03dad36cc7b6a"
   }
  }
 },
 "nbformat": 4,
 "nbformat_minor": 0
}
